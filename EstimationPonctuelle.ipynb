{
  "nbformat": 4,
  "nbformat_minor": 0,
  "metadata": {
    "colab": {
      "name": "EstimationPonctuelle.ipynb",
      "provenance": [],
      "authorship_tag": "ABX9TyNGlZSWJLx+c63491TV7Fyv",
      "include_colab_link": true
    },
    "kernelspec": {
      "name": "ir",
      "display_name": "R"
    },
    "language_info": {
      "name": "R"
    }
  },
  "cells": [
    {
      "cell_type": "markdown",
      "metadata": {
        "id": "view-in-github",
        "colab_type": "text"
      },
      "source": [
        "<a href=\"https://colab.research.google.com/github/Hamrita/Statistique-Mathematique/blob/main/EstimationPonctuelle.ipynb\" target=\"_parent\"><img src=\"https://colab.research.google.com/assets/colab-badge.svg\" alt=\"Open In Colab\"/></a>"
      ]
    },
    {
      "cell_type": "code",
      "metadata": {
        "id": "EukwVsKonbLc"
      },
      "source": [
        ""
      ],
      "execution_count": null,
      "outputs": []
    },
    {
      "cell_type": "markdown",
      "metadata": {
        "id": "aY9WELPzncTF"
      },
      "source": [
        "# Estimation \n",
        "## Estimation ponctuelle\n",
        "### Méthode des moments\n",
        "__Définition:__ \n",
        "\n",
        "1. $\\mathbb{E}(X^k)$ est le __moment théorique non centré__ d'ordre $k$.\n",
        "2. $\\mathbb{E}\\left[(x-m)^k \\right]$ est le __moment théorique centré__ d'ordre $k$ où $m=\\mathbb{E}(X)$.\n",
        "3. $M_k=\\dfrac{1}{n}\\displaystyle{\\sum_{i=1}^nX_i^k}$ est le __moment empirique non centré__ d'ordre $k$.\n",
        "4. $\\mu_k=\\dfrac{1}{n}\\displaystyle \\sum_{i=1}^n(X_i-\\overline{X})^k$ est le __moment empirique centré__ d'ordre $k$.\n",
        "\n",
        "La méthode des moments consiste à égaliser entre les moments théoriques non centrés et les moments empiriques non centrés.\n",
        "\n",
        "__Exemple 1:__\n",
        "\n",
        "Soit $(X_1, X_2, \\ldots, X_n)$ une suite de $v.a$ $iid$ suivant la loi de $\\mathcal{B}(1,p)$ . Déterminer l'estimateur de $p$ par la méthode des moments.\n",
        "\n",
        "On a $\\mathbb{E}(X)=p$ et $M_1=\\overline{X}$, d'où $\\mathbb{E}(X)=M_1 \\Longrightarrow$ $\\widehat{p}=\\overline{X}$.\n",
        "\n",
        "__Exemple 2:__\n",
        "\n",
        "Soit $(X_1, X_2, \\ldots, X_n)$ une suite de $v.a$ telle que $X_i\\stackrel{iid}{\\sim}N(m,\\sigma)$. Donner une estimation des paramètres $m$ et $\\sigma^2$ par la méthode des moments.\n",
        "\n",
        "$\\mathbb{E}(X)=M_1$ $\\Longrightarrow \\; \\widehat{m}=\\overline{X}$.\n",
        "\n",
        "$\\mathbb{E}(X^2)=M_2$ $\\Longrightarrow \\; \\sigma^2 + m^2 = \\overline{X^2}$ $\\Longrightarrow \\sigma^2 = \\overline{X^2}- m^2$. Soit $\\widehat{\\sigma}^2 =\\displaystyle \\dfrac{1}{n}\\sum_{i=1}^n X_i^2 -\\widehat{m}^2$\n",
        "\n",
        "$\\widehat{\\sigma}^2 =\\displaystyle \\dfrac{1}{n}\\sum_{i=1}^n X_i^2-\\overline{X}^2=\\dfrac{1}{n}\\sum_{i=1}^n\\left( X_i-\\overline{X}\\right)^2$\n",
        "\n",
        "__Remarque__ On peut, aussi, égaliser entre les moments centré théoriques et empiriques afin de déterminer l'estimateur de $\\sigma^2$.\n",
        "\n",
        "__Exercice__ Soit  l'échantillon $iid$ $(1.66, 7.14, 6.92, 4.10, 7.77, 5.08, 4.57, 2.29, 1.36, 1.67)$ issu de la loi $\\gamma(\\alpha, \\lambda)$. Déterminer une estimation des paramètres $\\alpha$ et $\\lambda$ par la méthode des moments.\n",
        "\n",
        "On sait que $\\mathbb{E}(X)=\\dfrac{\\alpha}{\\lambda}$ et $\\mathbb{V}(X)=\\dfrac{\\alpha}{\\lambda^2}$, donc $\\dfrac{\\alpha}{\\lambda}=\\overline{X}$ et $\\dfrac{\\alpha}{\\lambda^2}=\\dfrac{1}{n}\\displaystyle{\\sum_{i=1}^n\\left(X_i-\\overline{X} \\right)^2}$.\n",
        "\n",
        "D'où, $\\dfrac{\\overline{X}}{\\lambda}=\\dfrac{1}{n}\\displaystyle{\\sum_{i=1}^n\\left(X_i-\\overline{X} \\right)^2}$ $\\Longrightarrow \\widehat{\\lambda}= \\dfrac{\\displaystyle{\\sum_{i=1}^n X_i}}{\\displaystyle{\\sum_{i=1}^n\\left(X_i-\\overline{X} \\right)^2}}$\n",
        "\n",
        "Et $\\widehat{\\alpha}=\\widehat{\\lambda}\\overline{X}=\\overline{X}\\dfrac{\\displaystyle{\\sum_{i=1}^n X_i}}{\\displaystyle{\\sum_{i=1}^n\\left(X_i-\\overline{X} \\right)^2}}$."
      ]
    },
    {
      "cell_type": "code",
      "metadata": {
        "colab": {
          "base_uri": "https://localhost:8080/",
          "height": 50
        },
        "id": "ARtD7pbfzgeU",
        "outputId": "5f5fc898-c921-4ca7-8a32-3fc8a87158b2"
      },
      "source": [
        "x=c(1.66, 7.14, 6.92, 4.10, 7.77, 5.08, 4.57, 2.29, 1.36, 1.67)\n",
        "n=length(x) ; x.bar=mean(x) ; s2=1/n*sum((x-x.bar)^2)\n",
        "lambda.hat=x.bar/s2 \n",
        "alpha.hat=lambda.hat*x.bar\n",
        "round(lambda.hat, 3)\n",
        "round(alpha.hat, 3)"
      ],
      "execution_count": 5,
      "outputs": [
        {
          "output_type": "display_data",
          "data": {
            "text/plain": [
              "[1] 0.785"
            ],
            "text/latex": "0.785",
            "text/markdown": "0.785",
            "text/html": [
              "0.785"
            ]
          },
          "metadata": {}
        },
        {
          "output_type": "display_data",
          "data": {
            "text/plain": [
              "[1] 3.339"
            ],
            "text/latex": "3.339",
            "text/markdown": "3.339",
            "text/html": [
              "3.339"
            ]
          },
          "metadata": {}
        }
      ]
    },
    {
      "cell_type": "markdown",
      "metadata": {
        "id": "bTSSeoIE7_9D"
      },
      "source": [
        "### Méthode du maximum de VS\n",
        "\n",
        "Soit l'échantillon $iid$ $(2,5,2,3,3,3,1,5)$ issu de la loi de poisson de paramètre $\\lambda$. Déterminer l'estimateur de $\\lambda$ par la méthode du maximum de vraisemblance.\n",
        "\n",
        "$f(x)=\\dfrac{\\lambda^x}{x!}e^{-\\lambda}$, d'où le ogarithme de vraisemblance est donné par: $\\ell =\\displaystyle\\sum_{i=1}^n \\log(f(x_i)=\\log(\\lambda) \\displaystyle\\sum_{i=1}^nX_i-n\\lambda-\\displaystyle\\sum_{i=1}^n\\log(x!)$"
      ]
    },
    {
      "cell_type": "code",
      "metadata": {
        "colab": {
          "base_uri": "https://localhost:8080/",
          "height": 454
        },
        "id": "q-hXx2_i8PCr",
        "outputId": "85c025a5-f48a-45e7-ccac-c339e5a47570"
      },
      "source": [
        "ll=function(x,lambda){\n",
        "  n=length(x)\n",
        "  l=log(lambda)*sum(x)-n*lambda-sum(log(factorial(x)))\n",
        "  return(-l)\n",
        "}\n",
        "\n",
        "# graphique de la VS\n",
        "\n",
        "lam=1:10\n",
        "xx=c(2,5,2,3,3,3,1,5)\n",
        "N=length(lam)\n",
        "LL=NULL\n",
        "for(i in 1:N) LL[i]=ll(x,lam[i])\n",
        "plot(lam,LL, type=\"l\", lwd=2, col=4)\n",
        "idx=which.min(LL) ; points(idx,LL[idx], col=2, pch=10, lwd=4)"
      ],
      "execution_count": 41,
      "outputs": [
        {
          "output_type": "display_data",
          "data": {
            "text/plain": [
              "[1] 3"
            ],
            "text/latex": "3",
            "text/markdown": "3",
            "text/html": [
              "3"
            ]
          },
          "metadata": {}
        },
        {
          "output_type": "display_data",
          "data": {
            "image/png": "[encoded data removed]",
            "text/plain": [
              "plot without title"
            ]
          },
          "metadata": {
            "image/png": {
              "width": 420,
              "height": 420
            }
          }
        }
      ]
    },
    {
      "cell_type": "markdown",
      "metadata": {
        "id": "Gg0JUGHDEpTM"
      },
      "source": [
        "Graphiquement, $-\\ell$ est minimum pour $\\lambda=4$"
      ]
    },
    {
      "cell_type": "code",
      "metadata": {
        "colab": {
          "base_uri": "https://localhost:8080/",
          "height": 213
        },
        "id": "5v-29gulE7dC",
        "outputId": "a2270ad7-4e4d-4191-fbbb-21712c886505"
      },
      "source": [
        "# numériquement\n",
        "# on peut utiliser la fonction optim ou nlm\n",
        "\n",
        "nlm(ll,1, x=xx)"
      ],
      "execution_count": 39,
      "outputs": [
        {
          "output_type": "display_data",
          "data": {
            "text/plain": [
              "$minimum\n",
              "[1] 13.96986\n",
              "\n",
              "$estimate\n",
              "[1] 2.999999\n",
              "\n",
              "$gradient\n",
              "[1] 8.289669e-09\n",
              "\n",
              "$code\n",
              "[1] 1\n",
              "\n",
              "$iterations\n",
              "[1] 7\n"
            ],
            "text/latex": "\\begin{description}\n\\item[\\$minimum] 13.9698613263365\n\\item[\\$estimate] 2.99999850323375\n\\item[\\$gradient] 8.28966938643363e-09\n\\item[\\$code] 1\n\\item[\\$iterations] 7\n\\end{description}\n",
            "text/markdown": "$minimum\n:   13.9698613263365\n$estimate\n:   2.99999850323375\n$gradient\n:   8.28966938643363e-09\n$code\n:   1\n$iterations\n:   7\n\n\n",
            "text/html": [
              "<dl>\n",
              "\t<dt>$minimum</dt>\n",
              "\t\t<dd>13.9698613263365</dd>\n",
              "\t<dt>$estimate</dt>\n",
              "\t\t<dd>2.99999850323375</dd>\n",
              "\t<dt>$gradient</dt>\n",
              "\t\t<dd>8.28966938643363e-09</dd>\n",
              "\t<dt>$code</dt>\n",
              "\t\t<dd>1</dd>\n",
              "\t<dt>$iterations</dt>\n",
              "\t\t<dd>7</dd>\n",
              "</dl>\n"
            ]
          },
          "metadata": {}
        }
      ]
    },
    {
      "cell_type": "markdown",
      "metadata": {
        "id": "zzF1nWCdG2Xb"
      },
      "source": [
        "On voit bien, que numériquement, $\\widehat{\\lambda}=3$, qui est égale à $\\overline{X}$."
      ]
    },
    {
      "cell_type": "markdown",
      "metadata": {
        "id": "2nGHSuynIu5z"
      },
      "source": [
        "__Exercice__\n",
        "\n",
        "Soit la régression linéaire simple $y_i=\\beta_0+\\beta_1x_i+\\varepsilon_i$ avec $\\varepsilon_i\\stackrel{iid}\\sim N(0,\\sigma)$. Donner une estimation ponctuelle des paramètres $(\\beta_0,\\beta_1,\\sigma)$ par la méthode de vraisemblance.\n",
        "\n",
        "<table>\n",
        "  <tr>\n",
        "    <th>  </th>\n",
        "    <th>  </th>\n",
        "    <th>  </th>\n",
        "    <th>  </th>\n",
        "    <th>  </th>\n",
        "    <th>  </th>\n",
        "    <th>  </th>\n",
        "    <th>  </th>\n",
        "    <th>  </th>\n",
        "    <th>  </th>\n",
        "    <th>  </th>\n",
        "  </tr>\n",
        "  <tr>\n",
        "    <th> x </th>\n",
        "    <th> 0.1 </th>\n",
        "    <th> 0.32 </th>\n",
        "    <th> 0.52 </th>\n",
        "    <th> 0.66 </th>\n",
        "    <th> 0.41 </th>\n",
        "    <th> 0.91 </th>\n",
        "    <th> 0.29 </th>\n",
        "    <th> 0.46 </th>\n",
        "    <th> 0.33 </th>\n",
        "    <th> 0.65 </th>\n",
        "\n",
        "  </tr>\n",
        "  <tr>\n",
        "    <th> y </th>\n",
        "    <th> 0.25 </th>\n",
        "    <th> 0.81 </th>\n",
        "    <th> 1.16 </th>\n",
        "    <th> 1.31 </th>\n",
        "    <th> 0.7 </th>\n",
        "    <th> 1.68 </th>\n",
        "    <th> 0.57 </th>\n",
        "    <th> 1.2 </th>\n",
        "    <th> 0.79 </th>\n",
        "    <th> 1 </th>\n",
        "\n",
        "  </tr>\n",
        "</table>"
      ]
    },
    {
      "cell_type": "markdown",
      "metadata": {
        "id": "I3UeEwImQRSN"
      },
      "source": [
        "$\\varepsilon_i \\stackrel{iid}\\sim N(0,\\sigma) \\Longrightarrow \\; y_i \\stackrel{iid}\\sim N(\\beta_0+\\beta_1x_i,\\sigma)$, donc $f(y_i)=\\dfrac{1}{\\sqrt{2\\pi}\\sigma}\\exp\\left(-\\dfrac{1}{2\\sigma^2}(y_i-\\beta_0-\\beta_1x_i)^2 \\right) \\Longrightarrow \\; logL=-\\dfrac{n}{2}\\log(2\\pi)-n\\log(\\sigma)-\\dfrac{1}{2\\sigma^2}\\displaystyle\\sum_{i=1}^n(y_i-\\beta_0-\\beta_1x_i)^2$"
      ]
    },
    {
      "cell_type": "code",
      "metadata": {
        "colab": {
          "base_uri": "https://localhost:8080/",
          "height": 34
        },
        "id": "epRVugniMllc",
        "outputId": "5ddd961e-9c9d-40f5-e748-5adc0f445e54"
      },
      "source": [
        "x=c(0.1,0.32,0.52,0.66,0.41,0.91,0.29,0.46,0.33,0.65)\n",
        "y=c(0.25,0.81,1.16,1.31,0.7,1.68,0.57,1.2,0.79,1)\n",
        "\n",
        "# VS\n",
        "logL=function(x,y,theta){\n",
        "  # theta=(beta0,beta1,sigma)\n",
        "  n=length(x)\n",
        "  b0=theta[1]\n",
        "  b1=theta[2]\n",
        "  sig=theta[3]\n",
        "  ll=-n/2*log(2*pi)-n*log(sig)-1/(2*sig^2)*sum((y-b0-b1*x)^2)\n",
        "  -ll\n",
        "}\n",
        "\n",
        "# Estimation\n",
        "\n",
        "theta=optim(fn=logL,par=c(1,1,1),\n",
        "           x=x,y=y,\n",
        "           lower=c(-Inf,-Inf,0.001),\n",
        "           upper=c(Inf, Inf, Inf),\n",
        "           method=\"L-BFGS-B\",hessian=TRUE)\n",
        "theta$par"
      ],
      "execution_count": 53,
      "outputs": [
        {
          "output_type": "display_data",
          "data": {
            "text/plain": [
              "[1] 0.1786281 1.6524133 0.1430038"
            ],
            "text/latex": "\\begin{enumerate*}\n\\item 0.178628067140612\n\\item 1.65241332395547\n\\item 0.143003779309764\n\\end{enumerate*}\n",
            "text/markdown": "1. 0.178628067140612\n2. 1.65241332395547\n3. 0.143003779309764\n\n\n",
            "text/html": [
              "<style>\n",
              ".list-inline {list-style: none; margin:0; padding: 0}\n",
              ".list-inline>li {display: inline-block}\n",
              ".list-inline>li:not(:last-child)::after {content: \"\\00b7\"; padding: 0 .5ex}\n",
              "</style>\n",
              "<ol class=list-inline><li>0.178628067140612</li><li>1.65241332395547</li><li>0.143003779309764</li></ol>\n"
            ]
          },
          "metadata": {}
        }
      ]
    },
    {
      "cell_type": "markdown",
      "metadata": {
        "id": "fwx6UNRLV0IC"
      },
      "source": [
        "Examinons le résultat. En utilisant la méthode des MCO, on aura $\\widehat{\\beta}=(X'X)^{-1}X'Y$ et $\\widehat{\\sigma}^2=\\dfrac{\\sum (y_i-\\widehat{y}_i)^2}{n-k-1}$"
      ]
    },
    {
      "cell_type": "code",
      "metadata": {
        "colab": {
          "base_uri": "https://localhost:8080/",
          "height": 34
        },
        "id": "mVYYYxgLTtvn",
        "outputId": "9443d9ad-ffee-45ad-baa8-7b74ab892b20"
      },
      "source": [
        "X=cbind(1,x)\n",
        "y=as.matrix(y)\n",
        "beta=solve(crossprod(X))%*%crossprod(X,y)\n",
        "y.hat=beta[1,1]+beta[2,1]*x\n",
        "sig2=sum((y-y.hat)^2)/8\n",
        "c(beta,sqrt(sig2))"
      ],
      "execution_count": 61,
      "outputs": [
        {
          "output_type": "display_data",
          "data": {
            "text/plain": [
              "[1] 0.1786274 1.6524142 0.1598768"
            ],
            "text/latex": "\\begin{enumerate*}\n\\item 0.178627385545937\n\\item 1.65241422463239\n\\item 0.15987683952616\n\\end{enumerate*}\n",
            "text/markdown": "1. 0.178627385545937\n2. 1.65241422463239\n3. 0.15987683952616\n\n\n",
            "text/html": [
              "<style>\n",
              ".list-inline {list-style: none; margin:0; padding: 0}\n",
              ".list-inline>li {display: inline-block}\n",
              ".list-inline>li:not(:last-child)::after {content: \"\\00b7\"; padding: 0 .5ex}\n",
              "</style>\n",
              "<ol class=list-inline><li>0.178627385545937</li><li>1.65241422463239</li><li>0.15987683952616</li></ol>\n"
            ]
          },
          "metadata": {}
        }
      ]
    }
  ]
}