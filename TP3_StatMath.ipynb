{
  "nbformat": 4,
  "nbformat_minor": 0,
  "metadata": {
    "colab": {
      "provenance": [],
      "authorship_tag": "ABX9TyO9KEbbHZLD6ovKrca/q24g",
      "include_colab_link": true
    },
    "kernelspec": {
      "name": "ir",
      "display_name": "R"
    },
    "language_info": {
      "name": "R"
    }
  },
  "cells": [
    {
      "cell_type": "markdown",
      "metadata": {
        "id": "view-in-github",
        "colab_type": "text"
      },
      "source": [
        "<a href=\"https://colab.research.google.com/github/Hamrita/Statistique-Mathematique/blob/main/TP3_StatMath.ipynb\" target=\"_parent\"><img src=\"https://colab.research.google.com/assets/colab-badge.svg\" alt=\"Open In Colab\"/></a>"
      ]
    },
    {
      "cell_type": "markdown",
      "source": [
        "__Estimation ponctuelle__\n",
        "\n",
        "Soit $(x_1,x_2,\\ldots,x_n)$ un échantillon de taille $n$ issu de la loi normale de paramètres $\\mathbf{\\theta}=(m=\\theta_1,\\sigma^2=\\theta_2)$.\n",
        "\n",
        "1. Déterminer la fonction de vraisemblance. Donner le vecteur score, $s(\\theta|x)$, et la matrice hessienne, $H(\\theta|x)$.\n",
        "2. Soit $n=10$ et $x=(17.20,  9.72, 40.82,  3.08, -1.20,  5.62,  2.52, 20.13, 15.78, 2.78)$.\n",
        "   \n",
        "   a)  Calculer $\\widehat{\\theta}$, l'estimateur du vecteur $\\theta$ par la méthode de vraisemblance. Donner l'estimation du vecteur score et de la matrice hessienne au point $\\widehat{\\theta}$.\n",
        "   \n",
        "   b) Étudier les qualités de l'estimateur."
      ],
      "metadata": {
        "id": "yLiKSx-pkF5O"
      }
    },
    {
      "cell_type": "markdown",
      "source": [
        "1) La densité de la loi normale de paramètres $\\theta_1$ et $\\theta_2$ est:\n",
        "$$\n",
        "f(x_i,\\theta)=\\dfrac{1}{\\sqrt{2\\pi\\theta_2}}\\exp\\left(-\\dfrac{1}{2\\theta_2}(x_i-\\theta_1)^2 \\right)\n",
        "$$\n",
        "Le logarithme de la fonction de densité d'une réalisation est:\n",
        "$$\n",
        "\\ln\\left(f(x_i,\\theta \\right)=-\\dfrac{1}{2}\\ln(2\\pi\\theta_2)-\\dfrac{1}{2\\theta_2}(x_i-\\theta_1)^2\n",
        "$$\n",
        "Le logarithme de la fonction de vraisemblance est donnée comme suit:\n",
        "\\begin{align*}\n",
        "\\ell(x,\\theta)&=\\sum_{i=1}^n\\ln\\left(f(x_i,\\theta \\right)\\\\\n",
        "&=-\\dfrac{n}{2}\\ln(2\\pi\\theta_2)-\\dfrac{1}{2\\theta_2}\\sum_{i=1}^n(x_i-\\theta_1)^2\n",
        "\\end{align*}\n",
        "\n",
        "Le vecteur score $s(\\theta|x)=(\\frac{∂ \\ell}{∂θ_1},\\frac{∂ \\ell}{∂θ_2})'$.\n",
        "$$\n",
        "\\frac{∂ \\ell}{∂θ_1}=\\dfrac{1}{\\theta_2}\\sum_{i=1}^n(x_i-\\theta_1)\n",
        "$$\n",
        "$$\n",
        "\\frac{∂ \\ell}{∂θ_2}=-\\frac{n}{2\\theta_2}+\\dfrac{1}{2\\theta_2^2}\\sum_{i=1}^n(x_i-\\theta_1)^2\n",
        "$$\n",
        "La matrice hessienne est donnée par:\n",
        "\\begin{align*}\n",
        "H(\\theta|x)&=\\left(\\begin{array}{cc}\n",
        "\\frac{∂^2\\ell}{∂θ_1^2} & \\frac{∂^2\\ell}{∂θ_1∂θ_2}\\\\\n",
        "\\frac{∂^2\\ell}{∂θ_1∂θ_2} & \\frac{∂^2\\ell}{∂θ_2^2}\n",
        "\\end{array} \\right)\\\\\n",
        "&=\\left(\\begin{array}{cc}\n",
        "-\\frac{n}{θ_2} & -\\frac{1}{θ_2^2}\\sum_{i=1}^n(x_i-θ_1)\\\\\n",
        "-\\frac{1}{θ_2^2}\\sum_{i=1}^n(x_i-θ_1) & \\frac{n}{2θ_2^2}-\\frac{1}{θ_2^3}\\sum_{i=1}^n(x_i-\\theta_1)^2\n",
        "\\end{array} \\right)\n",
        "\\end{align*}\n",
        "\n",
        "2. Le vecteur $\\widehat{θ}$"
      ],
      "metadata": {
        "id": "yRhJ5WrpkK-0"
      }
    },
    {
      "cell_type": "code",
      "execution_count": 3,
      "metadata": {
        "colab": {
          "base_uri": "https://localhost:8080/",
          "height": 114
        },
        "id": "d3iCCTiMjzD_",
        "outputId": "242d16c2-1cfd-470e-c028-eaccf9e5d0c4"
      },
      "outputs": [
        {
          "output_type": "display_data",
          "data": {
            "text/html": [
              "<style>\n",
              ".list-inline {list-style: none; margin:0; padding: 0}\n",
              ".list-inline>li {display: inline-block}\n",
              ".list-inline>li:not(:last-child)::after {content: \"\\00b7\"; padding: 0 .5ex}\n",
              "</style>\n",
              "<ol class=list-inline><li>11.6477084657767</li><li>141.025852653888</li></ol>\n"
            ],
            "text/markdown": "1. 11.6477084657767\n2. 141.025852653888\n\n\n",
            "text/latex": "\\begin{enumerate*}\n\\item 11.6477084657767\n\\item 141.025852653888\n\\end{enumerate*}\n",
            "text/plain": [
              "[1]  11.64771 141.02585"
            ]
          },
          "metadata": {}
        },
        {
          "output_type": "display_data",
          "data": {
            "text/html": [
              "<table class=\"dataframe\">\n",
              "<caption>A matrix: 2 × 2 of type dbl</caption>\n",
              "<tbody>\n",
              "\t<tr><td>-7.090898e-02</td><td> 1.362466e-06</td></tr>\n",
              "\t<tr><td> 1.362466e-06</td><td>-2.517879e-04</td></tr>\n",
              "</tbody>\n",
              "</table>\n"
            ],
            "text/markdown": "\nA matrix: 2 × 2 of type dbl\n\n| -7.090898e-02 |  1.362466e-06 |\n|  1.362466e-06 | -2.517879e-04 |\n\n",
            "text/latex": "A matrix: 2 × 2 of type dbl\n\\begin{tabular}{ll}\n\t -7.090898e-02 &  1.362466e-06\\\\\n\t  1.362466e-06 & -2.517879e-04\\\\\n\\end{tabular}\n",
            "text/plain": [
              "     [,1]          [,2]         \n",
              "[1,] -7.090898e-02  1.362466e-06\n",
              "[2,]  1.362466e-06 -2.517879e-04"
            ]
          },
          "metadata": {}
        }
      ],
      "source": [
        "x=c(17.20,9.72,40.82,3.08,-1.20,5.62,2.52,20.13,15.78,2.78)\n",
        "vs.norm=function(theta,x) {\n",
        "    n=length(x)\n",
        "    t1=theta[1]; t2=theta[2]\n",
        "    -n/2*log(2*pi*t2)-1/(2*t2)*sum((x-t1)^2)\n",
        " }\n",
        "theta.hat=optim(fn=vs.norm,par=c(0,1),hessian=TRUE,\n",
        "      control=list(fnscale=-1), # for maximisation\n",
        "      x=x)\n",
        "theta.hat$par   # estimateurs"
      ]
    },
    {
      "cell_type": "code",
      "source": [
        "round(theta.hat$hessian,5)  # hessian matrix"
      ],
      "metadata": {
        "colab": {
          "base_uri": "https://localhost:8080/",
          "height": 114
        },
        "id": "hYkjLtznktz2",
        "outputId": "6ca4b176-94b1-45f8-f41b-76863516c7c5"
      },
      "execution_count": 5,
      "outputs": [
        {
          "output_type": "display_data",
          "data": {
            "text/html": [
              "<table class=\"dataframe\">\n",
              "<caption>A matrix: 2 × 2 of type dbl</caption>\n",
              "<tbody>\n",
              "\t<tr><td>-0.07091</td><td> 0.00000</td></tr>\n",
              "\t<tr><td> 0.00000</td><td>-0.00025</td></tr>\n",
              "</tbody>\n",
              "</table>\n"
            ],
            "text/markdown": "\nA matrix: 2 × 2 of type dbl\n\n| -0.07091 |  0.00000 |\n|  0.00000 | -0.00025 |\n\n",
            "text/latex": "A matrix: 2 × 2 of type dbl\n\\begin{tabular}{ll}\n\t -0.07091 &  0.00000\\\\\n\t  0.00000 & -0.00025\\\\\n\\end{tabular}\n",
            "text/plain": [
              "     [,1]     [,2]    \n",
              "[1,] -0.07091  0.00000\n",
              "[2,]  0.00000 -0.00025"
            ]
          },
          "metadata": {}
        }
      ]
    }
  ]
}