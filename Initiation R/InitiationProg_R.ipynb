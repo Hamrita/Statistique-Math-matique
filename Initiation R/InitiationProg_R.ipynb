{
  "nbformat": 4,
  "nbformat_minor": 0,
  "metadata": {
    "colab": {
      "name": "Untitled28.ipynb",
      "provenance": [],
      "authorship_tag": "ABX9TyMdAk3q4bnEFlAXtCyK4JIF",
      "include_colab_link": true
    },
    "kernelspec": {
      "name": "ir",
      "display_name": "R"
    },
    "language_info": {
      "name": "R"
    }
  },
  "cells": [
    {
      "cell_type": "markdown",
      "metadata": {
        "id": "view-in-github",
        "colab_type": "text"
      },
      "source": [
        "<a href=\"https://colab.research.google.com/github/Hamrita/Statistique-Mathematique/blob/main/InitiationProg_R.ipynb\" target=\"_parent\"><img src=\"https://colab.research.google.com/assets/colab-badge.svg\" alt=\"Open In Colab\"/></a>"
      ]
    },
    {
      "cell_type": "markdown",
      "metadata": {
        "id": "6OWErx1JXmmU"
      },
      "source": [
        "# Initiation à la programmation\n",
        "## Les opérateurs\n",
        "Il y a trois principaux types d’opérateurs dans R : arithmétiques, de comparaison et logiques\n",
        "### Les opérateurs arithmétiques\n",
        "somme, soustraction, multiplication, division, modulo (reste de la division euclidienne) et la division entière.\n",
        "\n",
        "```\n",
        "+, -, *, ^, /, %%, %/%\n",
        "```\n",
        "\n"
      ]
    },
    {
      "cell_type": "code",
      "metadata": {
        "colab": {
          "base_uri": "https://localhost:8080/",
          "height": 134
        },
        "id": "nSN0pHzoXltK",
        "outputId": "db4a4164-22d3-4157-bcfe-b501ea93406f"
      },
      "source": [
        "1+3\n",
        "2-5\n",
        "2*3\n",
        "2^4\n",
        "4/3\n",
        "4%%3\n",
        "4%/%3"
      ],
      "execution_count": 1,
      "outputs": [
        {
          "output_type": "display_data",
          "data": {
            "text/plain": [
              "[1] 4"
            ],
            "text/latex": "4",
            "text/markdown": "4",
            "text/html": [
              "4"
            ]
          },
          "metadata": {}
        },
        {
          "output_type": "display_data",
          "data": {
            "text/plain": [
              "[1] -3"
            ],
            "text/latex": "-3",
            "text/markdown": "-3",
            "text/html": [
              "-3"
            ]
          },
          "metadata": {}
        },
        {
          "output_type": "display_data",
          "data": {
            "text/plain": [
              "[1] 6"
            ],
            "text/latex": "6",
            "text/markdown": "6",
            "text/html": [
              "6"
            ]
          },
          "metadata": {}
        },
        {
          "output_type": "display_data",
          "data": {
            "text/plain": [
              "[1] 16"
            ],
            "text/latex": "16",
            "text/markdown": "16",
            "text/html": [
              "16"
            ]
          },
          "metadata": {}
        },
        {
          "output_type": "display_data",
          "data": {
            "text/plain": [
              "[1] 1.333333"
            ],
            "text/latex": "1.33333333333333",
            "text/markdown": "1.33333333333333",
            "text/html": [
              "1.33333333333333"
            ]
          },
          "metadata": {}
        },
        {
          "output_type": "display_data",
          "data": {
            "text/plain": [
              "[1] 1"
            ],
            "text/latex": "1",
            "text/markdown": "1",
            "text/html": [
              "1"
            ]
          },
          "metadata": {}
        },
        {
          "output_type": "display_data",
          "data": {
            "text/plain": [
              "[1] 1"
            ],
            "text/latex": "1",
            "text/markdown": "1",
            "text/html": [
              "1"
            ]
          },
          "metadata": {}
        }
      ]
    },
    {
      "cell_type": "markdown",
      "metadata": {
        "id": "KqtILBvPZV7j"
      },
      "source": [
        "Ces opérateurs peuvent être appliqués aux vecteurs à condition que ces vecteurs sont de même tailles. Les opérations s'efectuent terme à terme."
      ]
    },
    {
      "cell_type": "code",
      "metadata": {
        "colab": {
          "base_uri": "https://localhost:8080/",
          "height": 84
        },
        "id": "r7QG5jsyZvtz",
        "outputId": "183aab7f-9825-46b3-9a26-c722a7e8132c"
      },
      "source": [
        "x=c(9,2,4,5)\n",
        "y=c(-1,1,3,4)\n",
        "x+y\n",
        "x^y\n",
        "x*y\n",
        "x/y "
      ],
      "execution_count": 3,
      "outputs": [
        {
          "output_type": "display_data",
          "data": {
            "text/plain": [
              "[1] 8 3 7 9"
            ],
            "text/latex": "\\begin{enumerate*}\n\\item 8\n\\item 3\n\\item 7\n\\item 9\n\\end{enumerate*}\n",
            "text/markdown": "1. 8\n2. 3\n3. 7\n4. 9\n\n\n",
            "text/html": [
              "<style>\n",
              ".list-inline {list-style: none; margin:0; padding: 0}\n",
              ".list-inline>li {display: inline-block}\n",
              ".list-inline>li:not(:last-child)::after {content: \"\\00b7\"; padding: 0 .5ex}\n",
              "</style>\n",
              "<ol class=list-inline><li>8</li><li>3</li><li>7</li><li>9</li></ol>\n"
            ]
          },
          "metadata": {}
        },
        {
          "output_type": "display_data",
          "data": {
            "text/plain": [
              "[1]   0.1111111   2.0000000  64.0000000 625.0000000"
            ],
            "text/latex": "\\begin{enumerate*}\n\\item 0.111111111111111\n\\item 2\n\\item 64\n\\item 625\n\\end{enumerate*}\n",
            "text/markdown": "1. 0.111111111111111\n2. 2\n3. 64\n4. 625\n\n\n",
            "text/html": [
              "<style>\n",
              ".list-inline {list-style: none; margin:0; padding: 0}\n",
              ".list-inline>li {display: inline-block}\n",
              ".list-inline>li:not(:last-child)::after {content: \"\\00b7\"; padding: 0 .5ex}\n",
              "</style>\n",
              "<ol class=list-inline><li>0.111111111111111</li><li>2</li><li>64</li><li>625</li></ol>\n"
            ]
          },
          "metadata": {}
        },
        {
          "output_type": "display_data",
          "data": {
            "text/plain": [
              "[1] -9  2 12 20"
            ],
            "text/latex": "\\begin{enumerate*}\n\\item -9\n\\item 2\n\\item 12\n\\item 20\n\\end{enumerate*}\n",
            "text/markdown": "1. -9\n2. 2\n3. 12\n4. 20\n\n\n",
            "text/html": [
              "<style>\n",
              ".list-inline {list-style: none; margin:0; padding: 0}\n",
              ".list-inline>li {display: inline-block}\n",
              ".list-inline>li:not(:last-child)::after {content: \"\\00b7\"; padding: 0 .5ex}\n",
              "</style>\n",
              "<ol class=list-inline><li>-9</li><li>2</li><li>12</li><li>20</li></ol>\n"
            ]
          },
          "metadata": {}
        },
        {
          "output_type": "display_data",
          "data": {
            "text/plain": [
              "[1] -9.000000  2.000000  1.333333  1.250000"
            ],
            "text/latex": "\\begin{enumerate*}\n\\item -9\n\\item 2\n\\item 1.33333333333333\n\\item 1.25\n\\end{enumerate*}\n",
            "text/markdown": "1. -9\n2. 2\n3. 1.33333333333333\n4. 1.25\n\n\n",
            "text/html": [
              "<style>\n",
              ".list-inline {list-style: none; margin:0; padding: 0}\n",
              ".list-inline>li {display: inline-block}\n",
              ".list-inline>li:not(:last-child)::after {content: \"\\00b7\"; padding: 0 .5ex}\n",
              "</style>\n",
              "<ol class=list-inline><li>-9</li><li>2</li><li>1.33333333333333</li><li>1.25</li></ol>\n"
            ]
          },
          "metadata": {}
        }
      ]
    },
    {
      "cell_type": "markdown",
      "metadata": {
        "id": "1enyQcPhfSt9"
      },
      "source": [
        "Pour le produit matriciel, on utilise soit `x %*% y` soit `crossprod(x,y)`. \n",
        "\n",
        "\n"
      ]
    },
    {
      "cell_type": "code",
      "metadata": {
        "colab": {
          "base_uri": "https://localhost:8080/",
          "height": 412
        },
        "id": "dHr24y3nfwHN",
        "outputId": "e44c30f3-5857-437d-b9c4-49d32120c01e"
      },
      "source": [
        "xx=c(1,-2,5,8,7)\n",
        "yy=c(-3,1,2,-2,4)\n",
        "xx %*% yy\n",
        "crossprod(xx,yy)\n",
        "\n",
        "crossprod(xx)  # xx' * xx"
      ],
      "execution_count": 11,
      "outputs": [
        {
          "output_type": "display_data",
          "data": {
            "text/plain": [
              "     [,1]\n",
              "[1,] 17  "
            ],
            "text/latex": "A matrix: 1 × 1 of type dbl\n\\begin{tabular}{l}\n\t 17\\\\\n\\end{tabular}\n",
            "text/markdown": "\nA matrix: 1 × 1 of type dbl\n\n| 17 |\n\n",
            "text/html": [
              "<table class=\"dataframe\">\n",
              "<caption>A matrix: 1 × 1 of type dbl</caption>\n",
              "<tbody>\n",
              "\t<tr><td>17</td></tr>\n",
              "</tbody>\n",
              "</table>\n"
            ]
          },
          "metadata": {}
        },
        {
          "output_type": "display_data",
          "data": {
            "text/plain": [
              "     [,1]\n",
              "[1,] 17  "
            ],
            "text/latex": "A matrix: 1 × 1 of type dbl\n\\begin{tabular}{l}\n\t 17\\\\\n\\end{tabular}\n",
            "text/markdown": "\nA matrix: 1 × 1 of type dbl\n\n| 17 |\n\n",
            "text/html": [
              "<table class=\"dataframe\">\n",
              "<caption>A matrix: 1 × 1 of type dbl</caption>\n",
              "<tbody>\n",
              "\t<tr><td>17</td></tr>\n",
              "</tbody>\n",
              "</table>\n"
            ]
          },
          "metadata": {}
        },
        {
          "output_type": "display_data",
          "data": {
            "text/plain": [
              "     [,1]\n",
              "[1,] 143 "
            ],
            "text/latex": "A matrix: 1 × 1 of type dbl\n\\begin{tabular}{l}\n\t 143\\\\\n\\end{tabular}\n",
            "text/markdown": "\nA matrix: 1 × 1 of type dbl\n\n| 143 |\n\n",
            "text/html": [
              "<table class=\"dataframe\">\n",
              "<caption>A matrix: 1 × 1 of type dbl</caption>\n",
              "<tbody>\n",
              "\t<tr><td>143</td></tr>\n",
              "</tbody>\n",
              "</table>\n"
            ]
          },
          "metadata": {}
        }
      ]
    },
    {
      "cell_type": "markdown",
      "metadata": {
        "id": "x7tnjLFgaqWc"
      },
      "source": [
        "### Les opérateurs de comparaison\n"
      ]
    },
    {
      "cell_type": "code",
      "metadata": {
        "colab": {
          "base_uri": "https://localhost:8080/",
          "height": 118
        },
        "id": "zXaptYYba1oE",
        "outputId": "78e986ee-a1ce-4b0f-c0b9-bd134c344bb4"
      },
      "source": [
        "# ==  égal\n",
        "2 == 3\n",
        "# <   inférieur strictement\n",
        "3 < 5\n",
        "# >   supérieur strictement\n",
        "3 > 5\n",
        "# >= (>=) inférieur (supérieur) ou égal\n",
        "-2 <= 4\n",
        "-1 >= 1\n",
        "# !=  différent\n",
        "2 != 5"
      ],
      "execution_count": 4,
      "outputs": [
        {
          "output_type": "display_data",
          "data": {
            "text/plain": [
              "[1] FALSE"
            ],
            "text/latex": "FALSE",
            "text/markdown": "FALSE",
            "text/html": [
              "FALSE"
            ]
          },
          "metadata": {}
        },
        {
          "output_type": "display_data",
          "data": {
            "text/plain": [
              "[1] TRUE"
            ],
            "text/latex": "TRUE",
            "text/markdown": "TRUE",
            "text/html": [
              "TRUE"
            ]
          },
          "metadata": {}
        },
        {
          "output_type": "display_data",
          "data": {
            "text/plain": [
              "[1] FALSE"
            ],
            "text/latex": "FALSE",
            "text/markdown": "FALSE",
            "text/html": [
              "FALSE"
            ]
          },
          "metadata": {}
        },
        {
          "output_type": "display_data",
          "data": {
            "text/plain": [
              "[1] TRUE"
            ],
            "text/latex": "TRUE",
            "text/markdown": "TRUE",
            "text/html": [
              "TRUE"
            ]
          },
          "metadata": {}
        },
        {
          "output_type": "display_data",
          "data": {
            "text/plain": [
              "[1] FALSE"
            ],
            "text/latex": "FALSE",
            "text/markdown": "FALSE",
            "text/html": [
              "FALSE"
            ]
          },
          "metadata": {}
        },
        {
          "output_type": "display_data",
          "data": {
            "text/plain": [
              "[1] TRUE"
            ],
            "text/latex": "TRUE",
            "text/markdown": "TRUE",
            "text/html": [
              "TRUE"
            ]
          },
          "metadata": {}
        }
      ]
    },
    {
      "cell_type": "markdown",
      "metadata": {
        "id": "fmZtiFpFbpKy"
      },
      "source": [
        "### Les opérateurs logiques\n"
      ]
    },
    {
      "cell_type": "code",
      "metadata": {
        "colab": {
          "base_uri": "https://localhost:8080/",
          "height": 118
        },
        "id": "7ix6kcbGbt58",
        "outputId": "b7fbf4cd-6f67-4ac1-c662-ffb62288ce24"
      },
      "source": [
        "# x | y   x ou y (altgr + tiret de six) \n",
        "x=c(1,4); y=c(-1,4)\n",
        "x | y\n",
        "# x & y   x et y\n",
        "x & y\n",
        "# !x  non x\n",
        "! x\n",
        "# x && y  x et y\n",
        "x && y\n",
        "# x || y  x ou y\n",
        "x || y\n",
        "# xor(x,y) ou exclusif\n",
        "xor(x,y)"
      ],
      "execution_count": 5,
      "outputs": [
        {
          "output_type": "display_data",
          "data": {
            "text/plain": [
              "[1] TRUE TRUE"
            ],
            "text/latex": "\\begin{enumerate*}\n\\item TRUE\n\\item TRUE\n\\end{enumerate*}\n",
            "text/markdown": "1. TRUE\n2. TRUE\n\n\n",
            "text/html": [
              "<style>\n",
              ".list-inline {list-style: none; margin:0; padding: 0}\n",
              ".list-inline>li {display: inline-block}\n",
              ".list-inline>li:not(:last-child)::after {content: \"\\00b7\"; padding: 0 .5ex}\n",
              "</style>\n",
              "<ol class=list-inline><li>TRUE</li><li>TRUE</li></ol>\n"
            ]
          },
          "metadata": {}
        },
        {
          "output_type": "display_data",
          "data": {
            "text/plain": [
              "[1] TRUE TRUE"
            ],
            "text/latex": "\\begin{enumerate*}\n\\item TRUE\n\\item TRUE\n\\end{enumerate*}\n",
            "text/markdown": "1. TRUE\n2. TRUE\n\n\n",
            "text/html": [
              "<style>\n",
              ".list-inline {list-style: none; margin:0; padding: 0}\n",
              ".list-inline>li {display: inline-block}\n",
              ".list-inline>li:not(:last-child)::after {content: \"\\00b7\"; padding: 0 .5ex}\n",
              "</style>\n",
              "<ol class=list-inline><li>TRUE</li><li>TRUE</li></ol>\n"
            ]
          },
          "metadata": {}
        },
        {
          "output_type": "display_data",
          "data": {
            "text/plain": [
              "[1] FALSE FALSE"
            ],
            "text/latex": "\\begin{enumerate*}\n\\item FALSE\n\\item FALSE\n\\end{enumerate*}\n",
            "text/markdown": "1. FALSE\n2. FALSE\n\n\n",
            "text/html": [
              "<style>\n",
              ".list-inline {list-style: none; margin:0; padding: 0}\n",
              ".list-inline>li {display: inline-block}\n",
              ".list-inline>li:not(:last-child)::after {content: \"\\00b7\"; padding: 0 .5ex}\n",
              "</style>\n",
              "<ol class=list-inline><li>FALSE</li><li>FALSE</li></ol>\n"
            ]
          },
          "metadata": {}
        },
        {
          "output_type": "display_data",
          "data": {
            "text/plain": [
              "[1] TRUE"
            ],
            "text/latex": "TRUE",
            "text/markdown": "TRUE",
            "text/html": [
              "TRUE"
            ]
          },
          "metadata": {}
        },
        {
          "output_type": "display_data",
          "data": {
            "text/plain": [
              "[1] TRUE"
            ],
            "text/latex": "TRUE",
            "text/markdown": "TRUE",
            "text/html": [
              "TRUE"
            ]
          },
          "metadata": {}
        },
        {
          "output_type": "display_data",
          "data": {
            "text/plain": [
              "[1] FALSE FALSE"
            ],
            "text/latex": "\\begin{enumerate*}\n\\item FALSE\n\\item FALSE\n\\end{enumerate*}\n",
            "text/markdown": "1. FALSE\n2. FALSE\n\n\n",
            "text/html": [
              "<style>\n",
              ".list-inline {list-style: none; margin:0; padding: 0}\n",
              ".list-inline>li {display: inline-block}\n",
              ".list-inline>li:not(:last-child)::after {content: \"\\00b7\"; padding: 0 .5ex}\n",
              "</style>\n",
              "<ol class=list-inline><li>FALSE</li><li>FALSE</li></ol>\n"
            ]
          },
          "metadata": {}
        }
      ]
    },
    {
      "cell_type": "markdown",
      "metadata": {
        "id": "gx3usdTPdMUd"
      },
      "source": [
        "Les opérateurs < ET > et < OU > existent sous deux formes : la forme simple opère sur chaque élément des objets et retourne autant de valeurs logiques que de comparaisons effectuées ; la forme double opère sur le premier élément des objets. "
      ]
    },
    {
      "cell_type": "code",
      "metadata": {
        "colab": {
          "base_uri": "https://localhost:8080/",
          "height": 101
        },
        "id": "1kTa_GiYdRcV",
        "outputId": "30f7471c-abaa-4e33-fff3-41cabd8cd079"
      },
      "source": [
        "x=c(-1,2,4,7,-2,0,5)\n",
        "# x >= 0\n",
        "x >= 0\n",
        "# 0 < x < 5\n",
        "0 < x & x < 5\n",
        "# retirer les valeurs vérifiants 0 < x < 5\n",
        "x[0 < x & x < 5]\n",
        "# x > 4 ou x < 1\n",
        "x > 4 | x < 1\n",
        "x[x > 4 | x < 1]"
      ],
      "execution_count": 8,
      "outputs": [
        {
          "output_type": "display_data",
          "data": {
            "text/plain": [
              "[1] FALSE  TRUE  TRUE  TRUE FALSE  TRUE  TRUE"
            ],
            "text/latex": "\\begin{enumerate*}\n\\item FALSE\n\\item TRUE\n\\item TRUE\n\\item TRUE\n\\item FALSE\n\\item TRUE\n\\item TRUE\n\\end{enumerate*}\n",
            "text/markdown": "1. FALSE\n2. TRUE\n3. TRUE\n4. TRUE\n5. FALSE\n6. TRUE\n7. TRUE\n\n\n",
            "text/html": [
              "<style>\n",
              ".list-inline {list-style: none; margin:0; padding: 0}\n",
              ".list-inline>li {display: inline-block}\n",
              ".list-inline>li:not(:last-child)::after {content: \"\\00b7\"; padding: 0 .5ex}\n",
              "</style>\n",
              "<ol class=list-inline><li>FALSE</li><li>TRUE</li><li>TRUE</li><li>TRUE</li><li>FALSE</li><li>TRUE</li><li>TRUE</li></ol>\n"
            ]
          },
          "metadata": {}
        },
        {
          "output_type": "display_data",
          "data": {
            "text/plain": [
              "[1] FALSE  TRUE  TRUE FALSE FALSE FALSE FALSE"
            ],
            "text/latex": "\\begin{enumerate*}\n\\item FALSE\n\\item TRUE\n\\item TRUE\n\\item FALSE\n\\item FALSE\n\\item FALSE\n\\item FALSE\n\\end{enumerate*}\n",
            "text/markdown": "1. FALSE\n2. TRUE\n3. TRUE\n4. FALSE\n5. FALSE\n6. FALSE\n7. FALSE\n\n\n",
            "text/html": [
              "<style>\n",
              ".list-inline {list-style: none; margin:0; padding: 0}\n",
              ".list-inline>li {display: inline-block}\n",
              ".list-inline>li:not(:last-child)::after {content: \"\\00b7\"; padding: 0 .5ex}\n",
              "</style>\n",
              "<ol class=list-inline><li>FALSE</li><li>TRUE</li><li>TRUE</li><li>FALSE</li><li>FALSE</li><li>FALSE</li><li>FALSE</li></ol>\n"
            ]
          },
          "metadata": {}
        },
        {
          "output_type": "display_data",
          "data": {
            "text/plain": [
              "[1] 2 4"
            ],
            "text/latex": "\\begin{enumerate*}\n\\item 2\n\\item 4\n\\end{enumerate*}\n",
            "text/markdown": "1. 2\n2. 4\n\n\n",
            "text/html": [
              "<style>\n",
              ".list-inline {list-style: none; margin:0; padding: 0}\n",
              ".list-inline>li {display: inline-block}\n",
              ".list-inline>li:not(:last-child)::after {content: \"\\00b7\"; padding: 0 .5ex}\n",
              "</style>\n",
              "<ol class=list-inline><li>2</li><li>4</li></ol>\n"
            ]
          },
          "metadata": {}
        },
        {
          "output_type": "display_data",
          "data": {
            "text/plain": [
              "[1]  TRUE FALSE FALSE  TRUE  TRUE  TRUE  TRUE"
            ],
            "text/latex": "\\begin{enumerate*}\n\\item TRUE\n\\item FALSE\n\\item FALSE\n\\item TRUE\n\\item TRUE\n\\item TRUE\n\\item TRUE\n\\end{enumerate*}\n",
            "text/markdown": "1. TRUE\n2. FALSE\n3. FALSE\n4. TRUE\n5. TRUE\n6. TRUE\n7. TRUE\n\n\n",
            "text/html": [
              "<style>\n",
              ".list-inline {list-style: none; margin:0; padding: 0}\n",
              ".list-inline>li {display: inline-block}\n",
              ".list-inline>li:not(:last-child)::after {content: \"\\00b7\"; padding: 0 .5ex}\n",
              "</style>\n",
              "<ol class=list-inline><li>TRUE</li><li>FALSE</li><li>FALSE</li><li>TRUE</li><li>TRUE</li><li>TRUE</li><li>TRUE</li></ol>\n"
            ]
          },
          "metadata": {}
        },
        {
          "output_type": "display_data",
          "data": {
            "text/plain": [
              "[1] -1  7 -2  0  5"
            ],
            "text/latex": "\\begin{enumerate*}\n\\item -1\n\\item 7\n\\item -2\n\\item 0\n\\item 5\n\\end{enumerate*}\n",
            "text/markdown": "1. -1\n2. 7\n3. -2\n4. 0\n5. 5\n\n\n",
            "text/html": [
              "<style>\n",
              ".list-inline {list-style: none; margin:0; padding: 0}\n",
              ".list-inline>li {display: inline-block}\n",
              ".list-inline>li:not(:last-child)::after {content: \"\\00b7\"; padding: 0 .5ex}\n",
              "</style>\n",
              "<ol class=list-inline><li>-1</li><li>7</li><li>-2</li><li>0</li><li>5</li></ol>\n"
            ]
          },
          "metadata": {}
        }
      ]
    },
    {
      "cell_type": "markdown",
      "metadata": {
        "id": "8WMPVijReew2"
      },
      "source": [
        "Les opérateurs de comparaison opèrent sur chaque élément des deux objets qui sont comparés, et retournent donc un objet de même taille. Pour effectuer une comparaison *globale* de deux objets, deux fonctions sont disponibles : `identical` et `all.equal`. \n"
      ]
    },
    {
      "cell_type": "code",
      "metadata": {
        "colab": {
          "base_uri": "https://localhost:8080/",
          "height": 84
        },
        "id": "iW6huV_xeqQN",
        "outputId": "f5fe4938-1c97-4259-c2fe-61a7b8deb619"
      },
      "source": [
        "x=c(-1,2,5,6,7); y=c(-1,2,-5,6,7)\n",
        "identical(x,x)\n",
        "identical(x,y)\n",
        "all.equal(x,y)\n",
        "all.equal(y,y)"
      ],
      "execution_count": 9,
      "outputs": [
        {
          "output_type": "display_data",
          "data": {
            "text/plain": [
              "[1] TRUE"
            ],
            "text/latex": "TRUE",
            "text/markdown": "TRUE",
            "text/html": [
              "TRUE"
            ]
          },
          "metadata": {}
        },
        {
          "output_type": "display_data",
          "data": {
            "text/plain": [
              "[1] FALSE"
            ],
            "text/latex": "FALSE",
            "text/markdown": "FALSE",
            "text/html": [
              "FALSE"
            ]
          },
          "metadata": {}
        },
        {
          "output_type": "display_data",
          "data": {
            "text/plain": [
              "[1] \"Mean relative difference: 2\""
            ],
            "text/latex": "'Mean relative difference: 2'",
            "text/markdown": "'Mean relative difference: 2'",
            "text/html": [
              "'Mean relative difference: 2'"
            ]
          },
          "metadata": {}
        },
        {
          "output_type": "display_data",
          "data": {
            "text/plain": [
              "[1] TRUE"
            ],
            "text/latex": "TRUE",
            "text/markdown": "TRUE",
            "text/html": [
              "TRUE"
            ]
          },
          "metadata": {}
        }
      ]
    },
    {
      "cell_type": "markdown",
      "metadata": {
        "id": "HIIsUlUhgk4-"
      },
      "source": [
        "## Les conditions `if else`\n",
        "Pour déclencher une condition, il faut utiliser l'élément if.\n",
        "\n",
        "`if (maCondition){ action }`\n",
        " \n",
        "Si la condition est vrai (TRUE), alors l'action contenue entre crochets est déclenchée. Sinon, les lignes contenues entre crochets sont ignorées."
      ]
    },
    {
      "cell_type": "code",
      "metadata": {
        "colab": {
          "base_uri": "https://localhost:8080/"
        },
        "id": "-M9KkQ0ChEh-",
        "outputId": "d3951186-cbc5-4807-c90f-9fa0b3c9ee4a"
      },
      "source": [
        "xx=4\n",
        "if (xx >= 0) cat(xx, \"est positif\")"
      ],
      "execution_count": 18,
      "outputs": [
        {
          "output_type": "stream",
          "name": "stdout",
          "text": [
            "4 est positif"
          ]
        }
      ]
    },
    {
      "cell_type": "markdown",
      "metadata": {
        "id": "TtPqMXr5g6i_"
      },
      "source": [
        "`if(condition){ A }else{ B }` calcule les instructions A si la\n",
        "condition est vraie et les instructions B sinon."
      ]
    },
    {
      "cell_type": "code",
      "metadata": {
        "colab": {
          "base_uri": "https://localhost:8080/"
        },
        "id": "1QRoywLbiMb3",
        "outputId": "c0afcf37-f245-4117-891b-802252f40faf"
      },
      "source": [
        "xx=-2\n",
        "if (xx >= 0){\n",
        "  cat(xx, \"est positif\")\n",
        "}else{\n",
        "  cat(xx, \"est négatif\")\n",
        "}"
      ],
      "execution_count": 19,
      "outputs": [
        {
          "output_type": "stream",
          "name": "stdout",
          "text": [
            "-2 est négatif"
          ]
        }
      ]
    },
    {
      "cell_type": "markdown",
      "metadata": {
        "id": "YpRM7zL2igX2"
      },
      "source": [
        "ou encore, `ifelse(condition, A, B)`"
      ]
    },
    {
      "cell_type": "code",
      "metadata": {
        "colab": {
          "base_uri": "https://localhost:8080/",
          "height": 50
        },
        "id": "tHjaMmwuiuVn",
        "outputId": "ba7fefe2-8667-4f85-8783-1e78fd1b20d6"
      },
      "source": [
        "xx=-2\n",
        "txt=ifelse(xx >= 0,  \"est positf\", \"est négatif\" )\n",
        "txt\n",
        "cat(xx,txt)"
      ],
      "execution_count": 24,
      "outputs": [
        {
          "output_type": "display_data",
          "data": {
            "text/plain": [
              "[1] \"est négatif\""
            ],
            "text/latex": "'est négatif'",
            "text/markdown": "'est négatif'",
            "text/html": [
              "'est négatif'"
            ]
          },
          "metadata": {}
        },
        {
          "output_type": "stream",
          "name": "stdout",
          "text": [
            "-2 est négatif"
          ]
        }
      ]
    },
    {
      "cell_type": "markdown",
      "metadata": {
        "id": "8MeLOnjQjv3J"
      },
      "source": [
        "Soit $f(x)=\\begin{cases} x+1 \\;\\text{ si } x \\leq 0\\\\\n",
        "\\ln(x) \\;\\text{ si } x>0\n",
        "\\end{cases}$\n",
        "\n",
        "Calculer $f(-4)$ et $f(0.5)$"
      ]
    },
    {
      "cell_type": "code",
      "metadata": {
        "colab": {
          "base_uri": "https://localhost:8080/",
          "height": 50
        },
        "id": "qXxDU7iskilp",
        "outputId": "9aa266ed-c595-4d1e-daf4-ff1cc05715a0"
      },
      "source": [
        "x1=-4; x2=0.5\n",
        "fx1=ifelse(x1 <=0, x1+1,log(x1))\n",
        "fx1\n",
        "\n",
        "fx2=fx1=ifelse(x2 <=0, x2+1,log(x2))\n",
        "fx2"
      ],
      "execution_count": 25,
      "outputs": [
        {
          "output_type": "display_data",
          "data": {
            "text/plain": [
              "[1] -3"
            ],
            "text/latex": "-3",
            "text/markdown": "-3",
            "text/html": [
              "-3"
            ]
          },
          "metadata": {}
        },
        {
          "output_type": "display_data",
          "data": {
            "text/plain": [
              "[1] -0.6931472"
            ],
            "text/latex": "-0.693147180559945",
            "text/markdown": "-0.693147180559945",
            "text/html": [
              "-0.693147180559945"
            ]
          },
          "metadata": {}
        }
      ]
    },
    {
      "cell_type": "markdown",
      "metadata": {
        "id": "ferSO3jJk7xH"
      },
      "source": [
        "## Les boucles\n",
        "### La boucle `for`\n",
        "\n",
        "```\n",
        "for(x in sequence) {\n",
        "  instructions\n",
        "}\n",
        "```"
      ]
    },
    {
      "cell_type": "code",
      "metadata": {
        "colab": {
          "base_uri": "https://localhost:8080/",
          "height": 34
        },
        "id": "1VhmPKEalUhx",
        "outputId": "e9ac102e-1c67-4884-bda7-4fe08ead3b62"
      },
      "source": [
        "xx=c(-1,2,5,1,0.5)\n",
        "nn=length(xx)\n",
        "xp=0\n",
        "for(i in 1:nn){\n",
        " xp[i]= ifelse(xx[i] >=0, xx[i],NA)\n",
        "}\n",
        "xp"
      ],
      "execution_count": 28,
      "outputs": [
        {
          "output_type": "display_data",
          "data": {
            "text/plain": [
              "[1]  NA 2.0 5.0 1.0 0.5"
            ],
            "text/latex": "\\begin{enumerate*}\n\\item <NA>\n\\item 2\n\\item 5\n\\item 1\n\\item 0.5\n\\end{enumerate*}\n",
            "text/markdown": "1. &lt;NA&gt;\n2. 2\n3. 5\n4. 1\n5. 0.5\n\n\n",
            "text/html": [
              "<style>\n",
              ".list-inline {list-style: none; margin:0; padding: 0}\n",
              ".list-inline>li {display: inline-block}\n",
              ".list-inline>li:not(:last-child)::after {content: \"\\00b7\"; padding: 0 .5ex}\n",
              "</style>\n",
              "<ol class=list-inline><li>&lt;NA&gt;</li><li>2</li><li>5</li><li>1</li><li>0.5</li></ol>\n"
            ]
          },
          "metadata": {}
        }
      ]
    },
    {
      "cell_type": "code",
      "metadata": {
        "colab": {
          "base_uri": "https://localhost:8080/",
          "height": 34
        },
        "id": "axX3sfWymeUD",
        "outputId": "c480a50b-ee3b-4123-ae89-58f5251f410d"
      },
      "source": [
        "# calcul de la somme des valeurs de xx\n",
        "ss=0\n",
        "for(i in 1:nn){\n",
        "  ss=ss+xx[i]\n",
        "}\n",
        "ss"
      ],
      "execution_count": 29,
      "outputs": [
        {
          "output_type": "display_data",
          "data": {
            "text/plain": [
              "[1] 7.5"
            ],
            "text/latex": "7.5",
            "text/markdown": "7.5",
            "text/html": [
              "7.5"
            ]
          },
          "metadata": {}
        }
      ]
    },
    {
      "cell_type": "markdown",
      "metadata": {
        "id": "UNo0CbFOmyGh"
      },
      "source": [
        "### La boucle `while`\n",
        "\n",
        "```\n",
        "while(condition){\n",
        "  instructions\n",
        "}\n",
        "```\n",
        "\n"
      ]
    },
    {
      "cell_type": "code",
      "metadata": {
        "colab": {
          "base_uri": "https://localhost:8080/",
          "height": 34
        },
        "id": "eS5ZJvO4nBBD",
        "outputId": "1f46ea7c-12e6-4f9f-e7bd-443e13ce56a3"
      },
      "source": [
        "xp=NULL\n",
        "i=1\n",
        "while(i <= nn){\n",
        "yp= ifelse(xx[i] >=0, xx[i],NA)\n",
        "xp=c(xp,yp)\n",
        "i=i+1\n",
        "}\n",
        "xp"
      ],
      "execution_count": 31,
      "outputs": [
        {
          "output_type": "display_data",
          "data": {
            "text/plain": [
              "[1]  NA 2.0 5.0 1.0 0.5"
            ],
            "text/latex": "\\begin{enumerate*}\n\\item <NA>\n\\item 2\n\\item 5\n\\item 1\n\\item 0.5\n\\end{enumerate*}\n",
            "text/markdown": "1. &lt;NA&gt;\n2. 2\n3. 5\n4. 1\n5. 0.5\n\n\n",
            "text/html": [
              "<style>\n",
              ".list-inline {list-style: none; margin:0; padding: 0}\n",
              ".list-inline>li {display: inline-block}\n",
              ".list-inline>li:not(:last-child)::after {content: \"\\00b7\"; padding: 0 .5ex}\n",
              "</style>\n",
              "<ol class=list-inline><li>&lt;NA&gt;</li><li>2</li><li>5</li><li>1</li><li>0.5</li></ol>\n"
            ]
          },
          "metadata": {}
        }
      ]
    },
    {
      "cell_type": "code",
      "metadata": {
        "colab": {
          "base_uri": "https://localhost:8080/",
          "height": 34
        },
        "id": "qAd8DjtEnml7",
        "outputId": "6332d816-98d6-4064-bdff-f87337bdcddf"
      },
      "source": [
        "ss=0\n",
        "i=1\n",
        "while(i <= nn){\n",
        "  ss=ss+xx[i]\n",
        "  i=i+1\n",
        "}\n",
        "ss"
      ],
      "execution_count": 32,
      "outputs": [
        {
          "output_type": "display_data",
          "data": {
            "text/plain": [
              "[1] 7.5"
            ],
            "text/latex": "7.5",
            "text/markdown": "7.5",
            "text/html": [
              "7.5"
            ]
          },
          "metadata": {}
        }
      ]
    },
    {
      "cell_type": "markdown",
      "metadata": {
        "id": "eyS9sneCokLc"
      },
      "source": [
        "### La boucle `repeat`"
      ]
    },
    {
      "cell_type": "code",
      "metadata": {
        "colab": {
          "base_uri": "https://localhost:8080/"
        },
        "id": "cU_cI_TToOcj",
        "outputId": "8c27b6dd-ce04-4872-dbf9-f90f2aca0870"
      },
      "source": [
        "i <- 1\n",
        "repeat {\n",
        "print(i)\n",
        "i = i+1\n",
        "if (i == 6){\n",
        "break\n",
        "}\n",
        "}"
      ],
      "execution_count": 33,
      "outputs": [
        {
          "output_type": "stream",
          "name": "stdout",
          "text": [
            "[1] 1\n",
            "[1] 2\n",
            "[1] 3\n",
            "[1] 4\n",
            "[1] 5\n"
          ]
        }
      ]
    },
    {
      "cell_type": "markdown",
      "metadata": {
        "id": "uKzoh1MFpBlb"
      },
      "source": [
        "## Les fonctions\n",
        "\n",
        "La syntaxe d'une fonction est comme suit\n",
        "\n",
        "```\n",
        "NomFonction = function(arg1, arg2, arg3, ..., argn){\n",
        "  instructions\n",
        "  return()\n",
        "}\n",
        "```\n",
        "\n"
      ]
    },
    {
      "cell_type": "code",
      "metadata": {
        "colab": {
          "base_uri": "https://localhost:8080/",
          "height": 50
        },
        "id": "epY4xIH2peth",
        "outputId": "0ada64af-2799-4b88-8625-996b4a09e626"
      },
      "source": [
        "# f(x,y)=x^2+2*y\n",
        "f=function(x,y) {\n",
        "  z=x^2+2*y\n",
        "  return(z)\n",
        "}\n",
        "f(2,3)\n",
        "f(y=3,x=2)"
      ],
      "execution_count": 36,
      "outputs": [
        {
          "output_type": "display_data",
          "data": {
            "text/plain": [
              "[1] 10"
            ],
            "text/latex": "10",
            "text/markdown": "10",
            "text/html": [
              "10"
            ]
          },
          "metadata": {}
        },
        {
          "output_type": "display_data",
          "data": {
            "text/plain": [
              "[1] 10"
            ],
            "text/latex": "10",
            "text/markdown": "10",
            "text/html": [
              "10"
            ]
          },
          "metadata": {}
        }
      ]
    },
    {
      "cell_type": "markdown",
      "metadata": {
        "id": "l0iaOw1spz3k"
      },
      "source": [
        "On peut écrire une fonction avec des arguments définis par défauts."
      ]
    },
    {
      "cell_type": "code",
      "metadata": {
        "colab": {
          "base_uri": "https://localhost:8080/",
          "height": 67
        },
        "id": "mflkJL-rp-Nk",
        "outputId": "e4f360b5-d1f7-4ce1-9ac1-7fb6a7d2a79f"
      },
      "source": [
        "f=function(x=2,y=3) {\n",
        "  z=x^2+2*y\n",
        "  return(z)\n",
        "}\n",
        "f()\n",
        "f(-1)  # f(-1,3)\n",
        "f(y=4) # f(2,4)"
      ],
      "execution_count": 37,
      "outputs": [
        {
          "output_type": "display_data",
          "data": {
            "text/plain": [
              "[1] 10"
            ],
            "text/latex": "10",
            "text/markdown": "10",
            "text/html": [
              "10"
            ]
          },
          "metadata": {}
        },
        {
          "output_type": "display_data",
          "data": {
            "text/plain": [
              "[1] 7"
            ],
            "text/latex": "7",
            "text/markdown": "7",
            "text/html": [
              "7"
            ]
          },
          "metadata": {}
        },
        {
          "output_type": "display_data",
          "data": {
            "text/plain": [
              "[1] 12"
            ],
            "text/latex": "12",
            "text/markdown": "12",
            "text/html": [
              "12"
            ]
          },
          "metadata": {}
        }
      ]
    },
    {
      "cell_type": "markdown",
      "metadata": {
        "id": "75bN7hU6qkKx"
      },
      "source": [
        "**Exercice:** \n",
        "\n",
        "Soit $f(x)=\\begin{cases} x+1 \\;\\text{ si } x \\leq 0\\\\\n",
        "\\ln(x) \\;\\text{ si } x>0\n",
        "\\end{cases}$\n",
        "\n",
        "Ecrire une fonction `R` pour $f$.\n",
        "\n",
        "Calculer $f(-4)$ et $f(0.5)$"
      ]
    },
    {
      "cell_type": "code",
      "metadata": {
        "colab": {
          "base_uri": "https://localhost:8080/",
          "height": 101
        },
        "id": "BhklKs74rH9t",
        "outputId": "0571316f-2d87-4554-c8d1-9e8288e5afce"
      },
      "source": [
        "f=function(x) ifelse(x <= 0, x+1, log(x))\n",
        "f(-4)\n",
        "f(0.5)\n",
        "f(c(-4,0.5))  "
      ],
      "execution_count": 40,
      "outputs": [
        {
          "output_type": "display_data",
          "data": {
            "text/plain": [
              "[1] -3"
            ],
            "text/latex": "-3",
            "text/markdown": "-3",
            "text/html": [
              "-3"
            ]
          },
          "metadata": {}
        },
        {
          "output_type": "display_data",
          "data": {
            "text/plain": [
              "[1] -0.6931472"
            ],
            "text/latex": "-0.693147180559945",
            "text/markdown": "-0.693147180559945",
            "text/html": [
              "-0.693147180559945"
            ]
          },
          "metadata": {}
        },
        {
          "output_type": "stream",
          "name": "stderr",
          "text": [
            "Warning message in log(x):\n",
            "“NaNs produced”\n"
          ]
        },
        {
          "output_type": "display_data",
          "data": {
            "text/plain": [
              "[1] -3.0000000 -0.6931472"
            ],
            "text/latex": "\\begin{enumerate*}\n\\item -3\n\\item -0.693147180559945\n\\end{enumerate*}\n",
            "text/markdown": "1. -3\n2. -0.693147180559945\n\n\n",
            "text/html": [
              "<style>\n",
              ".list-inline {list-style: none; margin:0; padding: 0}\n",
              ".list-inline>li {display: inline-block}\n",
              ".list-inline>li:not(:last-child)::after {content: \"\\00b7\"; padding: 0 .5ex}\n",
              "</style>\n",
              "<ol class=list-inline><li>-3</li><li>-0.693147180559945</li></ol>\n"
            ]
          },
          "metadata": {}
        }
      ]
    },
    {
      "cell_type": "code",
      "metadata": {
        "colab": {
          "base_uri": "https://localhost:8080/",
          "height": 470
        },
        "id": "kPouM2tnsHKN",
        "outputId": "4261d911-d372-4b51-905f-a5a3116df276"
      },
      "source": [
        "# courbe de f sur [-4,5]\n",
        "curve(f,-4,5)"
      ],
      "execution_count": 41,
      "outputs": [
        {
          "output_type": "stream",
          "name": "stderr",
          "text": [
            "Warning message in log(x):\n",
            "“NaNs produced”\n"
          ]
        },
        {
          "output_type": "display_data",
          "data": {
            "image/png": "[encoded data removed]",
            "text/plain": [
              "plot without title"
            ]
          },
          "metadata": {
            "image/png": {
              "width": 420,
              "height": 420
            }
          }
        }
      ]
    },
    {
      "cell_type": "markdown",
      "metadata": {
        "id": "Qsz-C9g7spuN"
      },
      "source": [
        "**Exercice:**\n",
        "\n",
        "Soit la suite numérique définie par $ \\begin{cases}\n",
        "u_0= 1 \\\\\n",
        "u_{n+1}=\\dfrac{3}{5}u_n-1\n",
        "\\end{cases}\n",
        "$\n",
        "\n",
        "Ecrire une fonction `R` permettant de calculer les $n$ premiers termes de la suite $u_n$"
      ]
    },
    {
      "cell_type": "code",
      "metadata": {
        "colab": {
          "base_uri": "https://localhost:8080/",
          "height": 50
        },
        "id": "5uDgczcVtpSm",
        "outputId": "94461112-1122-423d-dee6-ede06b52ed01"
      },
      "source": [
        "un=function(n=10){\n",
        "  u=numeric(n)\n",
        "  u[1]=1  # u0\n",
        "  for(i in 1:(n-1)){\n",
        "    u[i+1]=3/5*u[i]-1\n",
        "  }\n",
        "  u\n",
        "}\n",
        "un(5)\n",
        "sum(un(100))  # somme des 100 premiers termes"
      ],
      "execution_count": 45,
      "outputs": [
        {
          "output_type": "display_data",
          "data": {
            "text/plain": [
              "[1]  1.0000 -0.4000 -1.2400 -1.7440 -2.0464"
            ],
            "text/latex": "\\begin{enumerate*}\n\\item 1\n\\item -0.4\n\\item -1.24\n\\item -1.744\n\\item -2.0464\n\\end{enumerate*}\n",
            "text/markdown": "1. 1\n2. -0.4\n3. -1.24\n4. -1.744\n5. -2.0464\n\n\n",
            "text/html": [
              "<style>\n",
              ".list-inline {list-style: none; margin:0; padding: 0}\n",
              ".list-inline>li {display: inline-block}\n",
              ".list-inline>li:not(:last-child)::after {content: \"\\00b7\"; padding: 0 .5ex}\n",
              "</style>\n",
              "<ol class=list-inline><li>1</li><li>-0.4</li><li>-1.24</li><li>-1.744</li><li>-2.0464</li></ol>\n"
            ]
          },
          "metadata": {}
        },
        {
          "output_type": "display_data",
          "data": {
            "text/plain": [
              "[1] -241.25"
            ],
            "text/latex": "-241.25",
            "text/markdown": "-241.25",
            "text/html": [
              "-241.25"
            ]
          },
          "metadata": {}
        }
      ]
    }
  ]
}