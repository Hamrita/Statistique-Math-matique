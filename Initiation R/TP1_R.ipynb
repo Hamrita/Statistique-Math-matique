{
  "nbformat": 4,
  "nbformat_minor": 0,
  "metadata": {
    "colab": {
      "name": "Untitled24.ipynb",
      "provenance": [],
      "authorship_tag": "ABX9TyNCIfXB1XkptmS76Ts66ehO",
      "include_colab_link": true
    },
    "kernelspec": {
      "name": "ir",
      "display_name": "R"
    },
    "language_info": {
      "name": "R"
    }
  },
  "cells": [
    {
      "cell_type": "markdown",
      "metadata": {
        "id": "view-in-github",
        "colab_type": "text"
      },
      "source": [
        "<a href=\"https://colab.research.google.com/github/Hamrita/Statistique-Mathematique/blob/main/TP1_R.ipynb\" target=\"_parent\"><img src=\"https://colab.research.google.com/assets/colab-badge.svg\" alt=\"Open In Colab\"/></a>"
      ]
    },
    {
      "cell_type": "markdown",
      "metadata": {
        "id": "InvzfrXnzMrx"
      },
      "source": [
        "# TP1: Les bases du langage R\n",
        "## R est une calculette"
      ]
    },
    {
      "cell_type": "code",
      "metadata": {
        "colab": {
          "base_uri": "https://localhost:8080/",
          "height": 151
        },
        "id": "DktagSqYlvsx",
        "outputId": "48fd6631-0a12-42b4-eb64-e058f8c2d5ab"
      },
      "source": [
        "1+3; 2^3; 5/8;\n",
        "cos(pi/3); sin(pi/3); tan(pi/3)\n",
        "sqrt(2)\n",
        "log(2)"
      ],
      "execution_count": 45,
      "outputs": [
        {
          "output_type": "display_data",
          "data": {
            "text/plain": [
              "[1] 4"
            ],
            "text/latex": "4",
            "text/markdown": "4",
            "text/html": [
              "4"
            ]
          },
          "metadata": {}
        },
        {
          "output_type": "display_data",
          "data": {
            "text/plain": [
              "[1] 8"
            ],
            "text/latex": "8",
            "text/markdown": "8",
            "text/html": [
              "8"
            ]
          },
          "metadata": {}
        },
        {
          "output_type": "display_data",
          "data": {
            "text/plain": [
              "[1] 0.625"
            ],
            "text/latex": "0.625",
            "text/markdown": "0.625",
            "text/html": [
              "0.625"
            ]
          },
          "metadata": {}
        },
        {
          "output_type": "display_data",
          "data": {
            "text/plain": [
              "[1] 0.5"
            ],
            "text/latex": "0.5",
            "text/markdown": "0.5",
            "text/html": [
              "0.5"
            ]
          },
          "metadata": {}
        },
        {
          "output_type": "display_data",
          "data": {
            "text/plain": [
              "[1] 0.8660254"
            ],
            "text/latex": "0.866025403784439",
            "text/markdown": "0.866025403784439",
            "text/html": [
              "0.866025403784439"
            ]
          },
          "metadata": {}
        },
        {
          "output_type": "display_data",
          "data": {
            "text/plain": [
              "[1] 1.732051"
            ],
            "text/latex": "1.73205080756888",
            "text/markdown": "1.73205080756888",
            "text/html": [
              "1.73205080756888"
            ]
          },
          "metadata": {}
        },
        {
          "output_type": "display_data",
          "data": {
            "text/plain": [
              "[1] 1.414214"
            ],
            "text/latex": "1.4142135623731",
            "text/markdown": "1.4142135623731",
            "text/html": [
              "1.4142135623731"
            ]
          },
          "metadata": {}
        },
        {
          "output_type": "display_data",
          "data": {
            "text/plain": [
              "[1] 0.6931472"
            ],
            "text/latex": "0.693147180559945",
            "text/markdown": "0.693147180559945",
            "text/html": [
              "0.693147180559945"
            ]
          },
          "metadata": {}
        }
      ]
    },
    {
      "cell_type": "markdown",
      "metadata": {
        "id": "TiAttMeczv04"
      },
      "source": [
        "R travail avec des objets. Pour affecter \"une valeur\" à un objet, on utlise soit le symbole \"<-\" soit tout simplement le symbole \"=\".\n",
        "\n",
        "Pour ignorer une ligne (afin d'écrire un commentaire), le symbole \"#\" sera utilisé au début de la ligne."
      ]
    },
    {
      "cell_type": "code",
      "metadata": {
        "colab": {
          "base_uri": "https://localhost:8080/",
          "height": 50
        },
        "id": "Bp_eMfIE0NqO",
        "outputId": "4902230d-e280-456e-8a80-63ab568d67e5"
      },
      "source": [
        "# ceci est un commentaire\n",
        "\n",
        "# affectons la valeur 2 à un objet x\n",
        "x=2\n",
        "y=5\n",
        "z=sqrt(x^2+y^2)\n",
        "\n",
        "# pour afficher le contenu de x, on tape x puis entrer ou print(x)\n",
        "x\n",
        "print(x)\n",
        "print(z)"
      ],
      "execution_count": 2,
      "outputs": [
        {
          "output_type": "display_data",
          "data": {
            "text/plain": [
              "[1] 2"
            ],
            "text/latex": "2",
            "text/markdown": "2",
            "text/html": [
              "2"
            ]
          },
          "metadata": {}
        },
        {
          "output_type": "stream",
          "name": "stdout",
          "text": [
            "[1] 2\n"
          ]
        }
      ]
    },
    {
      "cell_type": "markdown",
      "metadata": {
        "id": "HjY9G8iA2Mip"
      },
      "source": [
        "R possède des différents modes d'objets: numeric, logique, chaîne de caractère, complexe. "
      ]
    },
    {
      "cell_type": "code",
      "metadata": {
        "colab": {
          "base_uri": "https://localhost:8080/",
          "height": 84
        },
        "id": "R_jbZ1NM2eko",
        "outputId": "8f8f8dc7-cf14-449d-c8da-aa879a72501d"
      },
      "source": [
        "mode(2)\n",
        "mode(TRUE)\n",
        "mode(\"ESS\")\n",
        "mode(2-2i)"
      ],
      "execution_count": 11,
      "outputs": [
        {
          "output_type": "display_data",
          "data": {
            "text/plain": [
              "[1] \"numeric\""
            ],
            "text/latex": "'numeric'",
            "text/markdown": "'numeric'",
            "text/html": [
              "'numeric'"
            ]
          },
          "metadata": {}
        },
        {
          "output_type": "display_data",
          "data": {
            "text/plain": [
              "[1] \"logical\""
            ],
            "text/latex": "'logical'",
            "text/markdown": "'logical'",
            "text/html": [
              "'logical'"
            ]
          },
          "metadata": {}
        },
        {
          "output_type": "display_data",
          "data": {
            "text/plain": [
              "[1] \"character\""
            ],
            "text/latex": "'character'",
            "text/markdown": "'character'",
            "text/html": [
              "'character'"
            ]
          },
          "metadata": {}
        },
        {
          "output_type": "display_data",
          "data": {
            "text/plain": [
              "[1] \"complex\""
            ],
            "text/latex": "'complex'",
            "text/markdown": "'complex'",
            "text/html": [
              "'complex'"
            ]
          },
          "metadata": {}
        }
      ]
    },
    {
      "cell_type": "markdown",
      "metadata": {
        "id": "vgWeTnXQ3fPy"
      },
      "source": [
        "En plus les différents modes, R distingue aussi entre les différents types d'objets: entier (integer), réel (double), etc"
      ]
    },
    {
      "cell_type": "code",
      "metadata": {
        "colab": {
          "base_uri": "https://localhost:8080/",
          "height": 84
        },
        "id": "yK_igmSp3Pbx",
        "outputId": "f787be68-1e6a-4c59-a627-eb67ab75ec5c"
      },
      "source": [
        "typeof(c(2,3)); typeof(as.integer(2))\n",
        "typeof(1-2i)\n",
        "typeof(TRUE)"
      ],
      "execution_count": 12,
      "outputs": [
        {
          "output_type": "display_data",
          "data": {
            "text/plain": [
              "[1] \"double\""
            ],
            "text/latex": "'double'",
            "text/markdown": "'double'",
            "text/html": [
              "'double'"
            ]
          },
          "metadata": {}
        },
        {
          "output_type": "display_data",
          "data": {
            "text/plain": [
              "[1] \"integer\""
            ],
            "text/latex": "'integer'",
            "text/markdown": "'integer'",
            "text/html": [
              "'integer'"
            ]
          },
          "metadata": {}
        },
        {
          "output_type": "display_data",
          "data": {
            "text/plain": [
              "[1] \"complex\""
            ],
            "text/latex": "'complex'",
            "text/markdown": "'complex'",
            "text/html": [
              "'complex'"
            ]
          },
          "metadata": {}
        },
        {
          "output_type": "display_data",
          "data": {
            "text/plain": [
              "[1] \"logical\""
            ],
            "text/latex": "'logical'",
            "text/markdown": "'logical'",
            "text/html": [
              "'logical'"
            ]
          },
          "metadata": {}
        }
      ]
    },
    {
      "cell_type": "markdown",
      "metadata": {
        "id": "Xf8e5KH34KGz"
      },
      "source": [
        "## Les fonctions \"as.\" et \"is.\"\n",
        "\n",
        "\"as.FONCTION\" est utilisée pour convertir un objet d'un type (mode) à un autre type (mode).\n",
        "\n",
        "\"is.FONCTION\" est utiliser pour tester un type (mode) d'un objet"
      ]
    },
    {
      "cell_type": "code",
      "metadata": {
        "colab": {
          "base_uri": "https://localhost:8080/",
          "height": 84
        },
        "id": "5NRChB-W4khJ",
        "outputId": "7637c54a-a306-4e3a-8673-1794c10e7e52"
      },
      "source": [
        "as.integer(2.1)\n",
        "is.integer(1.2)\n",
        "is.complex(2i)\n",
        "as.complex(8)"
      ],
      "execution_count": 13,
      "outputs": [
        {
          "output_type": "display_data",
          "data": {
            "text/plain": [
              "[1] 2"
            ],
            "text/latex": "2",
            "text/markdown": "2",
            "text/html": [
              "2"
            ]
          },
          "metadata": {}
        },
        {
          "output_type": "display_data",
          "data": {
            "text/plain": [
              "[1] FALSE"
            ],
            "text/latex": "FALSE",
            "text/markdown": "FALSE",
            "text/html": [
              "FALSE"
            ]
          },
          "metadata": {}
        },
        {
          "output_type": "display_data",
          "data": {
            "text/plain": [
              "[1] TRUE"
            ],
            "text/latex": "TRUE",
            "text/markdown": "TRUE",
            "text/html": [
              "TRUE"
            ]
          },
          "metadata": {}
        },
        {
          "output_type": "display_data",
          "data": {
            "text/plain": [
              "[1] 8+0i"
            ],
            "text/latex": "8+0i",
            "text/markdown": "8+0i",
            "text/html": [
              "8+0i"
            ]
          },
          "metadata": {}
        }
      ]
    },
    {
      "cell_type": "markdown",
      "metadata": {
        "id": "6XkHXzOa5xIU"
      },
      "source": [
        "R fait aussi la distinction entre différentes classes d'objets: vecteur, matrices, tableau de données (data.frame), listes, etc\n",
        "## Vecteur\n",
        "La création d'un vecteur se fait de diverses manières:\n",
        "### Les fonction \"c()\" et \":\"\n",
        "La fonction la plus simple à utiliser pour créer un vecteur est la fonction \"c()\". Les éléments du vecteur seront séparés par un virgule \",\".\n",
        "\n",
        "Pour créer une séquence régulière entière de \"a\" à \"b\", on utilise la fonction \":\""
      ]
    },
    {
      "cell_type": "code",
      "metadata": {
        "colab": {
          "base_uri": "https://localhost:8080/",
          "height": 168
        },
        "id": "u3awT-zX6VXb",
        "outputId": "44962b54-3cc5-4a79-c443-4a94175ada28"
      },
      "source": [
        "# création d'un vecteur contenant 1, -1, 5\n",
        "x=c(1,-1,5)\n",
        "x\n",
        "y=-2:5\n",
        "y\n",
        "y[3]  # extraire le troisième élément de y\n",
        "y[c(1,5)] # extraire le premier et le 5ieme élément de y\n",
        "y[-2]  # éliminer le deuxième élément\n",
        "y[y>0] # extraire les éléments strictement positifs\n",
        "length(y) # la longueur du vecteur y\n",
        "sum(y)  # la somme des éléments du vecteur y\n",
        "cumsum(y)  # la somme cumulée des valeurs de y"
      ],
      "execution_count": 33,
      "outputs": [
        {
          "output_type": "display_data",
          "data": {
            "text/plain": [
              "[1]  1 -1  5"
            ],
            "text/latex": "\\begin{enumerate*}\n\\item 1\n\\item -1\n\\item 5\n\\end{enumerate*}\n",
            "text/markdown": "1. 1\n2. -1\n3. 5\n\n\n",
            "text/html": [
              "<style>\n",
              ".list-inline {list-style: none; margin:0; padding: 0}\n",
              ".list-inline>li {display: inline-block}\n",
              ".list-inline>li:not(:last-child)::after {content: \"\\00b7\"; padding: 0 .5ex}\n",
              "</style>\n",
              "<ol class=list-inline><li>1</li><li>-1</li><li>5</li></ol>\n"
            ]
          },
          "metadata": {}
        },
        {
          "output_type": "display_data",
          "data": {
            "text/plain": [
              "[1] -2 -1  0  1  2  3  4  5"
            ],
            "text/latex": "\\begin{enumerate*}\n\\item -2\n\\item -1\n\\item 0\n\\item 1\n\\item 2\n\\item 3\n\\item 4\n\\item 5\n\\end{enumerate*}\n",
            "text/markdown": "1. -2\n2. -1\n3. 0\n4. 1\n5. 2\n6. 3\n7. 4\n8. 5\n\n\n",
            "text/html": [
              "<style>\n",
              ".list-inline {list-style: none; margin:0; padding: 0}\n",
              ".list-inline>li {display: inline-block}\n",
              ".list-inline>li:not(:last-child)::after {content: \"\\00b7\"; padding: 0 .5ex}\n",
              "</style>\n",
              "<ol class=list-inline><li>-2</li><li>-1</li><li>0</li><li>1</li><li>2</li><li>3</li><li>4</li><li>5</li></ol>\n"
            ]
          },
          "metadata": {}
        },
        {
          "output_type": "display_data",
          "data": {
            "text/plain": [
              "[1] 0"
            ],
            "text/latex": "0",
            "text/markdown": "0",
            "text/html": [
              "0"
            ]
          },
          "metadata": {}
        },
        {
          "output_type": "display_data",
          "data": {
            "text/plain": [
              "[1] -2  2"
            ],
            "text/latex": "\\begin{enumerate*}\n\\item -2\n\\item 2\n\\end{enumerate*}\n",
            "text/markdown": "1. -2\n2. 2\n\n\n",
            "text/html": [
              "<style>\n",
              ".list-inline {list-style: none; margin:0; padding: 0}\n",
              ".list-inline>li {display: inline-block}\n",
              ".list-inline>li:not(:last-child)::after {content: \"\\00b7\"; padding: 0 .5ex}\n",
              "</style>\n",
              "<ol class=list-inline><li>-2</li><li>2</li></ol>\n"
            ]
          },
          "metadata": {}
        },
        {
          "output_type": "display_data",
          "data": {
            "text/plain": [
              "[1] -2  0  1  2  3  4  5"
            ],
            "text/latex": "\\begin{enumerate*}\n\\item -2\n\\item 0\n\\item 1\n\\item 2\n\\item 3\n\\item 4\n\\item 5\n\\end{enumerate*}\n",
            "text/markdown": "1. -2\n2. 0\n3. 1\n4. 2\n5. 3\n6. 4\n7. 5\n\n\n",
            "text/html": [
              "<style>\n",
              ".list-inline {list-style: none; margin:0; padding: 0}\n",
              ".list-inline>li {display: inline-block}\n",
              ".list-inline>li:not(:last-child)::after {content: \"\\00b7\"; padding: 0 .5ex}\n",
              "</style>\n",
              "<ol class=list-inline><li>-2</li><li>0</li><li>1</li><li>2</li><li>3</li><li>4</li><li>5</li></ol>\n"
            ]
          },
          "metadata": {}
        },
        {
          "output_type": "display_data",
          "data": {
            "text/plain": [
              "[1] 1 2 3 4 5"
            ],
            "text/latex": "\\begin{enumerate*}\n\\item 1\n\\item 2\n\\item 3\n\\item 4\n\\item 5\n\\end{enumerate*}\n",
            "text/markdown": "1. 1\n2. 2\n3. 3\n4. 4\n5. 5\n\n\n",
            "text/html": [
              "<style>\n",
              ".list-inline {list-style: none; margin:0; padding: 0}\n",
              ".list-inline>li {display: inline-block}\n",
              ".list-inline>li:not(:last-child)::after {content: \"\\00b7\"; padding: 0 .5ex}\n",
              "</style>\n",
              "<ol class=list-inline><li>1</li><li>2</li><li>3</li><li>4</li><li>5</li></ol>\n"
            ]
          },
          "metadata": {}
        },
        {
          "output_type": "display_data",
          "data": {
            "text/plain": [
              "[1] 8"
            ],
            "text/latex": "8",
            "text/markdown": "8",
            "text/html": [
              "8"
            ]
          },
          "metadata": {}
        },
        {
          "output_type": "display_data",
          "data": {
            "text/plain": [
              "[1] 12"
            ],
            "text/latex": "12",
            "text/markdown": "12",
            "text/html": [
              "12"
            ]
          },
          "metadata": {}
        },
        {
          "output_type": "display_data",
          "data": {
            "text/plain": [
              "[1] -2 -3 -3 -2  0  3  7 12"
            ],
            "text/latex": "\\begin{enumerate*}\n\\item -2\n\\item -3\n\\item -3\n\\item -2\n\\item 0\n\\item 3\n\\item 7\n\\item 12\n\\end{enumerate*}\n",
            "text/markdown": "1. -2\n2. -3\n3. -3\n4. -2\n5. 0\n6. 3\n7. 7\n8. 12\n\n\n",
            "text/html": [
              "<style>\n",
              ".list-inline {list-style: none; margin:0; padding: 0}\n",
              ".list-inline>li {display: inline-block}\n",
              ".list-inline>li:not(:last-child)::after {content: \"\\00b7\"; padding: 0 .5ex}\n",
              "</style>\n",
              "<ol class=list-inline><li>-2</li><li>-3</li><li>-3</li><li>-2</li><li>0</li><li>3</li><li>7</li><li>12</li></ol>\n"
            ]
          },
          "metadata": {}
        }
      ]
    },
    {
      "cell_type": "markdown",
      "metadata": {
        "id": "YQ9bX7Va6xFj"
      },
      "source": [
        "### La fonction \"seq()\"\n",
        "La fonction \"seq()\" permet de créer une séquence régulière. Elle prend 3 arguments (from, to, by (ou len))."
      ]
    },
    {
      "cell_type": "code",
      "metadata": {
        "colab": {
          "base_uri": "https://localhost:8080/",
          "height": 50
        },
        "id": "R8ktDSNz7Qfz",
        "outputId": "e6ad7c95-5d25-417d-f1dc-58c6e26aa5c8"
      },
      "source": [
        "seq1=seq(from=1,to=3,by=0.2) # séquence de 1 à 3 de pas égale à 0.2\n",
        "seq1\n",
        "seq2=seq(1,3,len=5) # séquence de 1 à 3 de longueur égale à 5\n",
        "seq2"
      ],
      "execution_count": 18,
      "outputs": [
        {
          "output_type": "display_data",
          "data": {
            "text/plain": [
              " [1] 1.0 1.2 1.4 1.6 1.8 2.0 2.2 2.4 2.6 2.8 3.0"
            ],
            "text/latex": "\\begin{enumerate*}\n\\item 1\n\\item 1.2\n\\item 1.4\n\\item 1.6\n\\item 1.8\n\\item 2\n\\item 2.2\n\\item 2.4\n\\item 2.6\n\\item 2.8\n\\item 3\n\\end{enumerate*}\n",
            "text/markdown": "1. 1\n2. 1.2\n3. 1.4\n4. 1.6\n5. 1.8\n6. 2\n7. 2.2\n8. 2.4\n9. 2.6\n10. 2.8\n11. 3\n\n\n",
            "text/html": [
              "<style>\n",
              ".list-inline {list-style: none; margin:0; padding: 0}\n",
              ".list-inline>li {display: inline-block}\n",
              ".list-inline>li:not(:last-child)::after {content: \"\\00b7\"; padding: 0 .5ex}\n",
              "</style>\n",
              "<ol class=list-inline><li>1</li><li>1.2</li><li>1.4</li><li>1.6</li><li>1.8</li><li>2</li><li>2.2</li><li>2.4</li><li>2.6</li><li>2.8</li><li>3</li></ol>\n"
            ]
          },
          "metadata": {}
        },
        {
          "output_type": "display_data",
          "data": {
            "text/plain": [
              "[1] 1.0 1.5 2.0 2.5 3.0"
            ],
            "text/latex": "\\begin{enumerate*}\n\\item 1\n\\item 1.5\n\\item 2\n\\item 2.5\n\\item 3\n\\end{enumerate*}\n",
            "text/markdown": "1. 1\n2. 1.5\n3. 2\n4. 2.5\n5. 3\n\n\n",
            "text/html": [
              "<style>\n",
              ".list-inline {list-style: none; margin:0; padding: 0}\n",
              ".list-inline>li {display: inline-block}\n",
              ".list-inline>li:not(:last-child)::after {content: \"\\00b7\"; padding: 0 .5ex}\n",
              "</style>\n",
              "<ol class=list-inline><li>1</li><li>1.5</li><li>2</li><li>2.5</li><li>3</li></ol>\n"
            ]
          },
          "metadata": {}
        }
      ]
    },
    {
      "cell_type": "markdown",
      "metadata": {
        "id": "wWUxHOUC8PrU"
      },
      "source": [
        "### La fonction \"rep()\"\n",
        "La fonction \"rep()\" permet de faire des répitions d'une valeur ou d'un vecteur."
      ]
    },
    {
      "cell_type": "code",
      "metadata": {
        "colab": {
          "base_uri": "https://localhost:8080/",
          "height": 118
        },
        "id": "3Q4m5KlD8dnJ",
        "outputId": "ece53755-6790-4eef-a31f-cfbf27df981d"
      },
      "source": [
        "rep(1,5) # répéter 5 foid la valeur 1 \n",
        "rep(TRUE, times=8)\n",
        "rep(c(T,F),times=3)\n",
        "rep(c(T,F),times=c(3,5)) \n",
        "rep(c(T,F), each=5)\n",
        "rep(c(T,F), each=5, len=13)"
      ],
      "execution_count": 23,
      "outputs": [
        {
          "output_type": "display_data",
          "data": {
            "text/plain": [
              "[1] 1 1 1 1 1"
            ],
            "text/latex": "\\begin{enumerate*}\n\\item 1\n\\item 1\n\\item 1\n\\item 1\n\\item 1\n\\end{enumerate*}\n",
            "text/markdown": "1. 1\n2. 1\n3. 1\n4. 1\n5. 1\n\n\n",
            "text/html": [
              "<style>\n",
              ".list-inline {list-style: none; margin:0; padding: 0}\n",
              ".list-inline>li {display: inline-block}\n",
              ".list-inline>li:not(:last-child)::after {content: \"\\00b7\"; padding: 0 .5ex}\n",
              "</style>\n",
              "<ol class=list-inline><li>1</li><li>1</li><li>1</li><li>1</li><li>1</li></ol>\n"
            ]
          },
          "metadata": {}
        },
        {
          "output_type": "display_data",
          "data": {
            "text/plain": [
              "[1] TRUE TRUE TRUE TRUE TRUE TRUE TRUE TRUE"
            ],
            "text/latex": "\\begin{enumerate*}\n\\item TRUE\n\\item TRUE\n\\item TRUE\n\\item TRUE\n\\item TRUE\n\\item TRUE\n\\item TRUE\n\\item TRUE\n\\end{enumerate*}\n",
            "text/markdown": "1. TRUE\n2. TRUE\n3. TRUE\n4. TRUE\n5. TRUE\n6. TRUE\n7. TRUE\n8. TRUE\n\n\n",
            "text/html": [
              "<style>\n",
              ".list-inline {list-style: none; margin:0; padding: 0}\n",
              ".list-inline>li {display: inline-block}\n",
              ".list-inline>li:not(:last-child)::after {content: \"\\00b7\"; padding: 0 .5ex}\n",
              "</style>\n",
              "<ol class=list-inline><li>TRUE</li><li>TRUE</li><li>TRUE</li><li>TRUE</li><li>TRUE</li><li>TRUE</li><li>TRUE</li><li>TRUE</li></ol>\n"
            ]
          },
          "metadata": {}
        },
        {
          "output_type": "display_data",
          "data": {
            "text/plain": [
              "[1]  TRUE FALSE  TRUE FALSE  TRUE FALSE"
            ],
            "text/latex": "\\begin{enumerate*}\n\\item TRUE\n\\item FALSE\n\\item TRUE\n\\item FALSE\n\\item TRUE\n\\item FALSE\n\\end{enumerate*}\n",
            "text/markdown": "1. TRUE\n2. FALSE\n3. TRUE\n4. FALSE\n5. TRUE\n6. FALSE\n\n\n",
            "text/html": [
              "<style>\n",
              ".list-inline {list-style: none; margin:0; padding: 0}\n",
              ".list-inline>li {display: inline-block}\n",
              ".list-inline>li:not(:last-child)::after {content: \"\\00b7\"; padding: 0 .5ex}\n",
              "</style>\n",
              "<ol class=list-inline><li>TRUE</li><li>FALSE</li><li>TRUE</li><li>FALSE</li><li>TRUE</li><li>FALSE</li></ol>\n"
            ]
          },
          "metadata": {}
        },
        {
          "output_type": "display_data",
          "data": {
            "text/plain": [
              "[1]  TRUE  TRUE  TRUE FALSE FALSE FALSE FALSE FALSE"
            ],
            "text/latex": "\\begin{enumerate*}\n\\item TRUE\n\\item TRUE\n\\item TRUE\n\\item FALSE\n\\item FALSE\n\\item FALSE\n\\item FALSE\n\\item FALSE\n\\end{enumerate*}\n",
            "text/markdown": "1. TRUE\n2. TRUE\n3. TRUE\n4. FALSE\n5. FALSE\n6. FALSE\n7. FALSE\n8. FALSE\n\n\n",
            "text/html": [
              "<style>\n",
              ".list-inline {list-style: none; margin:0; padding: 0}\n",
              ".list-inline>li {display: inline-block}\n",
              ".list-inline>li:not(:last-child)::after {content: \"\\00b7\"; padding: 0 .5ex}\n",
              "</style>\n",
              "<ol class=list-inline><li>TRUE</li><li>TRUE</li><li>TRUE</li><li>FALSE</li><li>FALSE</li><li>FALSE</li><li>FALSE</li><li>FALSE</li></ol>\n"
            ]
          },
          "metadata": {}
        },
        {
          "output_type": "display_data",
          "data": {
            "text/plain": [
              " [1]  TRUE  TRUE  TRUE  TRUE  TRUE FALSE FALSE FALSE FALSE FALSE"
            ],
            "text/latex": "\\begin{enumerate*}\n\\item TRUE\n\\item TRUE\n\\item TRUE\n\\item TRUE\n\\item TRUE\n\\item FALSE\n\\item FALSE\n\\item FALSE\n\\item FALSE\n\\item FALSE\n\\end{enumerate*}\n",
            "text/markdown": "1. TRUE\n2. TRUE\n3. TRUE\n4. TRUE\n5. TRUE\n6. FALSE\n7. FALSE\n8. FALSE\n9. FALSE\n10. FALSE\n\n\n",
            "text/html": [
              "<style>\n",
              ".list-inline {list-style: none; margin:0; padding: 0}\n",
              ".list-inline>li {display: inline-block}\n",
              ".list-inline>li:not(:last-child)::after {content: \"\\00b7\"; padding: 0 .5ex}\n",
              "</style>\n",
              "<ol class=list-inline><li>TRUE</li><li>TRUE</li><li>TRUE</li><li>TRUE</li><li>TRUE</li><li>FALSE</li><li>FALSE</li><li>FALSE</li><li>FALSE</li><li>FALSE</li></ol>\n"
            ]
          },
          "metadata": {}
        },
        {
          "output_type": "display_data",
          "data": {
            "text/plain": [
              " [1]  TRUE  TRUE  TRUE  TRUE  TRUE FALSE FALSE FALSE FALSE FALSE  TRUE  TRUE\n",
              "[13]  TRUE"
            ],
            "text/latex": "\\begin{enumerate*}\n\\item TRUE\n\\item TRUE\n\\item TRUE\n\\item TRUE\n\\item TRUE\n\\item FALSE\n\\item FALSE\n\\item FALSE\n\\item FALSE\n\\item FALSE\n\\item TRUE\n\\item TRUE\n\\item TRUE\n\\end{enumerate*}\n",
            "text/markdown": "1. TRUE\n2. TRUE\n3. TRUE\n4. TRUE\n5. TRUE\n6. FALSE\n7. FALSE\n8. FALSE\n9. FALSE\n10. FALSE\n11. TRUE\n12. TRUE\n13. TRUE\n\n\n",
            "text/html": [
              "<style>\n",
              ".list-inline {list-style: none; margin:0; padding: 0}\n",
              ".list-inline>li {display: inline-block}\n",
              ".list-inline>li:not(:last-child)::after {content: \"\\00b7\"; padding: 0 .5ex}\n",
              "</style>\n",
              "<ol class=list-inline><li>TRUE</li><li>TRUE</li><li>TRUE</li><li>TRUE</li><li>TRUE</li><li>FALSE</li><li>FALSE</li><li>FALSE</li><li>FALSE</li><li>FALSE</li><li>TRUE</li><li>TRUE</li><li>TRUE</li></ol>\n"
            ]
          },
          "metadata": {}
        }
      ]
    },
    {
      "cell_type": "markdown",
      "metadata": {
        "id": "_LAbJNVP-itc"
      },
      "source": [
        "## Les matrices\n",
        "La création d'une matrice s'effectue à l'aide de la fonction \"matrix()\". Elle prend cpmme un premier argument un vecteur contenant les valeurs de la mtrice, le deuxième argument le nombre de lignes et le troisi_me argument le nombre de colonnes \"matrix(x,nrow,ncol)\". Le remplissage de la matrice se fait par défaut colonne par colonne. Si on veut le remplissage se fait ligne par ligne, on ajoute un autre argument \"byrow=T\""
      ]
    },
    {
      "cell_type": "code",
      "metadata": {
        "colab": {
          "base_uri": "https://localhost:8080/",
          "height": 1000
        },
        "id": "5OjtSwDM_Mkl",
        "outputId": "beb87f3f-dcd9-4a9e-a625-65f7f2a6e99f"
      },
      "source": [
        "x=matrix(1:6,nr=3,nc=2)\n",
        "x\n",
        "class(x)\n",
        "x[1,2] # extraire la valeur de la 1iere ligne et la 2ieme colonne\n",
        "x[-1,]\n",
        "x[,2]\n",
        "y=matrix(1:6,nr=2,nc=3,byrow=T)\n",
        "y\n",
        "# y n'est autre que la transposée de x\n",
        "t(y)  # transposée de y\n",
        "# Le produit matricielle s'effectue à l'aide de la fonction \"%*%\"\n",
        "y%*%x\n",
        "Z=t(x)%*%x  # x'*x\n",
        "Z\n",
        "solve(Z)  # l'inverse de Z\n",
        "diag(1, 4) # matrice identité d'ordre 4\n",
        "diag(Z)  # extraire la diagonale de Z"
      ],
      "execution_count": 35,
      "outputs": [
        {
          "output_type": "display_data",
          "data": {
            "text/plain": [
              "     [,1] [,2]\n",
              "[1,] 1    4   \n",
              "[2,] 2    5   \n",
              "[3,] 3    6   "
            ],
            "text/latex": "A matrix: 3 × 2 of type int\n\\begin{tabular}{ll}\n\t 1 & 4\\\\\n\t 2 & 5\\\\\n\t 3 & 6\\\\\n\\end{tabular}\n",
            "text/markdown": "\nA matrix: 3 × 2 of type int\n\n| 1 | 4 |\n| 2 | 5 |\n| 3 | 6 |\n\n",
            "text/html": [
              "<table class=\"dataframe\">\n",
              "<caption>A matrix: 3 × 2 of type int</caption>\n",
              "<tbody>\n",
              "\t<tr><td>1</td><td>4</td></tr>\n",
              "\t<tr><td>2</td><td>5</td></tr>\n",
              "\t<tr><td>3</td><td>6</td></tr>\n",
              "</tbody>\n",
              "</table>\n"
            ]
          },
          "metadata": {}
        },
        {
          "output_type": "display_data",
          "data": {
            "text/plain": [
              "[1] \"matrix\" \"array\" "
            ],
            "text/latex": "\\begin{enumerate*}\n\\item 'matrix'\n\\item 'array'\n\\end{enumerate*}\n",
            "text/markdown": "1. 'matrix'\n2. 'array'\n\n\n",
            "text/html": [
              "<style>\n",
              ".list-inline {list-style: none; margin:0; padding: 0}\n",
              ".list-inline>li {display: inline-block}\n",
              ".list-inline>li:not(:last-child)::after {content: \"\\00b7\"; padding: 0 .5ex}\n",
              "</style>\n",
              "<ol class=list-inline><li>'matrix'</li><li>'array'</li></ol>\n"
            ]
          },
          "metadata": {}
        },
        {
          "output_type": "display_data",
          "data": {
            "text/plain": [
              "[1] 4"
            ],
            "text/latex": "4",
            "text/markdown": "4",
            "text/html": [
              "4"
            ]
          },
          "metadata": {}
        },
        {
          "output_type": "display_data",
          "data": {
            "text/plain": [
              "     [,1] [,2]\n",
              "[1,] 2    5   \n",
              "[2,] 3    6   "
            ],
            "text/latex": "A matrix: 2 × 2 of type int\n\\begin{tabular}{ll}\n\t 2 & 5\\\\\n\t 3 & 6\\\\\n\\end{tabular}\n",
            "text/markdown": "\nA matrix: 2 × 2 of type int\n\n| 2 | 5 |\n| 3 | 6 |\n\n",
            "text/html": [
              "<table class=\"dataframe\">\n",
              "<caption>A matrix: 2 × 2 of type int</caption>\n",
              "<tbody>\n",
              "\t<tr><td>2</td><td>5</td></tr>\n",
              "\t<tr><td>3</td><td>6</td></tr>\n",
              "</tbody>\n",
              "</table>\n"
            ]
          },
          "metadata": {}
        },
        {
          "output_type": "display_data",
          "data": {
            "text/plain": [
              "[1] 4 5 6"
            ],
            "text/latex": "\\begin{enumerate*}\n\\item 4\n\\item 5\n\\item 6\n\\end{enumerate*}\n",
            "text/markdown": "1. 4\n2. 5\n3. 6\n\n\n",
            "text/html": [
              "<style>\n",
              ".list-inline {list-style: none; margin:0; padding: 0}\n",
              ".list-inline>li {display: inline-block}\n",
              ".list-inline>li:not(:last-child)::after {content: \"\\00b7\"; padding: 0 .5ex}\n",
              "</style>\n",
              "<ol class=list-inline><li>4</li><li>5</li><li>6</li></ol>\n"
            ]
          },
          "metadata": {}
        },
        {
          "output_type": "display_data",
          "data": {
            "text/plain": [
              "     [,1] [,2] [,3]\n",
              "[1,] 1    2    3   \n",
              "[2,] 4    5    6   "
            ],
            "text/latex": "A matrix: 2 × 3 of type int\n\\begin{tabular}{lll}\n\t 1 & 2 & 3\\\\\n\t 4 & 5 & 6\\\\\n\\end{tabular}\n",
            "text/markdown": "\nA matrix: 2 × 3 of type int\n\n| 1 | 2 | 3 |\n| 4 | 5 | 6 |\n\n",
            "text/html": [
              "<table class=\"dataframe\">\n",
              "<caption>A matrix: 2 × 3 of type int</caption>\n",
              "<tbody>\n",
              "\t<tr><td>1</td><td>2</td><td>3</td></tr>\n",
              "\t<tr><td>4</td><td>5</td><td>6</td></tr>\n",
              "</tbody>\n",
              "</table>\n"
            ]
          },
          "metadata": {}
        },
        {
          "output_type": "display_data",
          "data": {
            "text/plain": [
              "     [,1] [,2]\n",
              "[1,] 1    4   \n",
              "[2,] 2    5   \n",
              "[3,] 3    6   "
            ],
            "text/latex": "A matrix: 3 × 2 of type int\n\\begin{tabular}{ll}\n\t 1 & 4\\\\\n\t 2 & 5\\\\\n\t 3 & 6\\\\\n\\end{tabular}\n",
            "text/markdown": "\nA matrix: 3 × 2 of type int\n\n| 1 | 4 |\n| 2 | 5 |\n| 3 | 6 |\n\n",
            "text/html": [
              "<table class=\"dataframe\">\n",
              "<caption>A matrix: 3 × 2 of type int</caption>\n",
              "<tbody>\n",
              "\t<tr><td>1</td><td>4</td></tr>\n",
              "\t<tr><td>2</td><td>5</td></tr>\n",
              "\t<tr><td>3</td><td>6</td></tr>\n",
              "</tbody>\n",
              "</table>\n"
            ]
          },
          "metadata": {}
        },
        {
          "output_type": "display_data",
          "data": {
            "text/plain": [
              "     [,1] [,2]\n",
              "[1,] 14   32  \n",
              "[2,] 32   77  "
            ],
            "text/latex": "A matrix: 2 × 2 of type dbl\n\\begin{tabular}{ll}\n\t 14 & 32\\\\\n\t 32 & 77\\\\\n\\end{tabular}\n",
            "text/markdown": "\nA matrix: 2 × 2 of type dbl\n\n| 14 | 32 |\n| 32 | 77 |\n\n",
            "text/html": [
              "<table class=\"dataframe\">\n",
              "<caption>A matrix: 2 × 2 of type dbl</caption>\n",
              "<tbody>\n",
              "\t<tr><td>14</td><td>32</td></tr>\n",
              "\t<tr><td>32</td><td>77</td></tr>\n",
              "</tbody>\n",
              "</table>\n"
            ]
          },
          "metadata": {}
        },
        {
          "output_type": "display_data",
          "data": {
            "text/plain": [
              "     [,1] [,2]\n",
              "[1,] 14   32  \n",
              "[2,] 32   77  "
            ],
            "text/latex": "A matrix: 2 × 2 of type dbl\n\\begin{tabular}{ll}\n\t 14 & 32\\\\\n\t 32 & 77\\\\\n\\end{tabular}\n",
            "text/markdown": "\nA matrix: 2 × 2 of type dbl\n\n| 14 | 32 |\n| 32 | 77 |\n\n",
            "text/html": [
              "<table class=\"dataframe\">\n",
              "<caption>A matrix: 2 × 2 of type dbl</caption>\n",
              "<tbody>\n",
              "\t<tr><td>14</td><td>32</td></tr>\n",
              "\t<tr><td>32</td><td>77</td></tr>\n",
              "</tbody>\n",
              "</table>\n"
            ]
          },
          "metadata": {}
        },
        {
          "output_type": "display_data",
          "data": {
            "text/plain": [
              "     [,1]       [,2]      \n",
              "[1,]  1.4259259 -0.5925926\n",
              "[2,] -0.5925926  0.2592593"
            ],
            "text/latex": "A matrix: 2 × 2 of type dbl\n\\begin{tabular}{ll}\n\t  1.4259259 & -0.5925926\\\\\n\t -0.5925926 &  0.2592593\\\\\n\\end{tabular}\n",
            "text/markdown": "\nA matrix: 2 × 2 of type dbl\n\n|  1.4259259 | -0.5925926 |\n| -0.5925926 |  0.2592593 |\n\n",
            "text/html": [
              "<table class=\"dataframe\">\n",
              "<caption>A matrix: 2 × 2 of type dbl</caption>\n",
              "<tbody>\n",
              "\t<tr><td> 1.4259259</td><td>-0.5925926</td></tr>\n",
              "\t<tr><td>-0.5925926</td><td> 0.2592593</td></tr>\n",
              "</tbody>\n",
              "</table>\n"
            ]
          },
          "metadata": {}
        },
        {
          "output_type": "display_data",
          "data": {
            "text/plain": [
              "     [,1] [,2] [,3] [,4]\n",
              "[1,] 1    0    0    0   \n",
              "[2,] 0    1    0    0   \n",
              "[3,] 0    0    1    0   \n",
              "[4,] 0    0    0    1   "
            ],
            "text/latex": "A matrix: 4 × 4 of type dbl\n\\begin{tabular}{llll}\n\t 1 & 0 & 0 & 0\\\\\n\t 0 & 1 & 0 & 0\\\\\n\t 0 & 0 & 1 & 0\\\\\n\t 0 & 0 & 0 & 1\\\\\n\\end{tabular}\n",
            "text/markdown": "\nA matrix: 4 × 4 of type dbl\n\n| 1 | 0 | 0 | 0 |\n| 0 | 1 | 0 | 0 |\n| 0 | 0 | 1 | 0 |\n| 0 | 0 | 0 | 1 |\n\n",
            "text/html": [
              "<table class=\"dataframe\">\n",
              "<caption>A matrix: 4 × 4 of type dbl</caption>\n",
              "<tbody>\n",
              "\t<tr><td>1</td><td>0</td><td>0</td><td>0</td></tr>\n",
              "\t<tr><td>0</td><td>1</td><td>0</td><td>0</td></tr>\n",
              "\t<tr><td>0</td><td>0</td><td>1</td><td>0</td></tr>\n",
              "\t<tr><td>0</td><td>0</td><td>0</td><td>1</td></tr>\n",
              "</tbody>\n",
              "</table>\n"
            ]
          },
          "metadata": {}
        },
        {
          "output_type": "display_data",
          "data": {
            "text/plain": [
              "[1] 14 77"
            ],
            "text/latex": "\\begin{enumerate*}\n\\item 14\n\\item 77\n\\end{enumerate*}\n",
            "text/markdown": "1. 14\n2. 77\n\n\n",
            "text/html": [
              "<style>\n",
              ".list-inline {list-style: none; margin:0; padding: 0}\n",
              ".list-inline>li {display: inline-block}\n",
              ".list-inline>li:not(:last-child)::after {content: \"\\00b7\"; padding: 0 .5ex}\n",
              "</style>\n",
              "<ol class=list-inline><li>14</li><li>77</li></ol>\n"
            ]
          },
          "metadata": {}
        }
      ]
    },
    {
      "cell_type": "markdown",
      "metadata": {
        "id": "gsErxX14FaSZ"
      },
      "source": [
        "On peut aussi créer une matrice en concatenant deux ou plusieurs vecteurs. Cette concaténation peut être effectuer soit par colonnes \"cbind()\" soit par ligne \"rbind()\""
      ]
    },
    {
      "cell_type": "code",
      "metadata": {
        "colab": {
          "base_uri": "https://localhost:8080/",
          "height": 321
        },
        "id": "F1RTHgDrFvGH",
        "outputId": "8fe1644d-9519-4795-e67c-54b9ea376034"
      },
      "source": [
        "x1=c(1,-5,4)\n",
        "x2=c(0,1,8)\n",
        "y1=cbind(x1,x2)\n",
        "y1\n",
        "y2=rbind(x1,x2)\n",
        "y2\n",
        "colnames(y1)\n",
        "rownames(y2)"
      ],
      "execution_count": 37,
      "outputs": [
        {
          "output_type": "display_data",
          "data": {
            "text/plain": [
              "     x1 x2\n",
              "[1,]  1 0 \n",
              "[2,] -5 1 \n",
              "[3,]  4 8 "
            ],
            "text/latex": "A matrix: 3 × 2 of type dbl\n\\begin{tabular}{ll}\n x1 & x2\\\\\n\\hline\n\t  1 & 0\\\\\n\t -5 & 1\\\\\n\t  4 & 8\\\\\n\\end{tabular}\n",
            "text/markdown": "\nA matrix: 3 × 2 of type dbl\n\n| x1 | x2 |\n|---|---|\n|  1 | 0 |\n| -5 | 1 |\n|  4 | 8 |\n\n",
            "text/html": [
              "<table class=\"dataframe\">\n",
              "<caption>A matrix: 3 × 2 of type dbl</caption>\n",
              "<thead>\n",
              "\t<tr><th scope=col>x1</th><th scope=col>x2</th></tr>\n",
              "</thead>\n",
              "<tbody>\n",
              "\t<tr><td> 1</td><td>0</td></tr>\n",
              "\t<tr><td>-5</td><td>1</td></tr>\n",
              "\t<tr><td> 4</td><td>8</td></tr>\n",
              "</tbody>\n",
              "</table>\n"
            ]
          },
          "metadata": {}
        },
        {
          "output_type": "display_data",
          "data": {
            "text/plain": [
              "   [,1] [,2] [,3]\n",
              "x1 1    -5   4   \n",
              "x2 0     1   8   "
            ],
            "text/latex": "A matrix: 2 × 3 of type dbl\n\\begin{tabular}{r|lll}\n\tx1 & 1 & -5 & 4\\\\\n\tx2 & 0 &  1 & 8\\\\\n\\end{tabular}\n",
            "text/markdown": "\nA matrix: 2 × 3 of type dbl\n\n| x1 | 1 | -5 | 4 |\n| x2 | 0 |  1 | 8 |\n\n",
            "text/html": [
              "<table class=\"dataframe\">\n",
              "<caption>A matrix: 2 × 3 of type dbl</caption>\n",
              "<tbody>\n",
              "\t<tr><th scope=row>x1</th><td>1</td><td>-5</td><td>4</td></tr>\n",
              "\t<tr><th scope=row>x2</th><td>0</td><td> 1</td><td>8</td></tr>\n",
              "</tbody>\n",
              "</table>\n"
            ]
          },
          "metadata": {}
        },
        {
          "output_type": "display_data",
          "data": {
            "text/plain": [
              "[1] \"x1\" \"x2\""
            ],
            "text/latex": "\\begin{enumerate*}\n\\item 'x1'\n\\item 'x2'\n\\end{enumerate*}\n",
            "text/markdown": "1. 'x1'\n2. 'x2'\n\n\n",
            "text/html": [
              "<style>\n",
              ".list-inline {list-style: none; margin:0; padding: 0}\n",
              ".list-inline>li {display: inline-block}\n",
              ".list-inline>li:not(:last-child)::after {content: \"\\00b7\"; padding: 0 .5ex}\n",
              "</style>\n",
              "<ol class=list-inline><li>'x1'</li><li>'x2'</li></ol>\n"
            ]
          },
          "metadata": {}
        },
        {
          "output_type": "display_data",
          "data": {
            "text/plain": [
              "[1] \"x1\" \"x2\""
            ],
            "text/latex": "\\begin{enumerate*}\n\\item 'x1'\n\\item 'x2'\n\\end{enumerate*}\n",
            "text/markdown": "1. 'x1'\n2. 'x2'\n\n\n",
            "text/html": [
              "<style>\n",
              ".list-inline {list-style: none; margin:0; padding: 0}\n",
              ".list-inline>li {display: inline-block}\n",
              ".list-inline>li:not(:last-child)::after {content: \"\\00b7\"; padding: 0 .5ex}\n",
              "</style>\n",
              "<ol class=list-inline><li>'x1'</li><li>'x2'</li></ol>\n"
            ]
          },
          "metadata": {}
        }
      ]
    },
    {
      "cell_type": "markdown",
      "metadata": {
        "id": "q13u4JT7EyCv"
      },
      "source": [
        "## Tableau de données (data.frame)\n",
        "Les éléments d'une matrice sont du même mode (numeric ou logical ou charcter). Pour avoir un tableau de données de différents modes, on fait recours à la classe \"data.frame\"."
      ]
    },
    {
      "cell_type": "code",
      "metadata": {
        "colab": {
          "base_uri": "https://localhost:8080/",
          "height": 254
        },
        "id": "LnhHmXLgGHtX",
        "outputId": "64ee4c8e-299c-4e10-ef5f-7adb84a8294e"
      },
      "source": [
        "x1=c(T,F,F,T)\n",
        "x2=c(\"a\",\"b\",\"c\",\"d\")\n",
        "x3=c(-1,2,4,8)\n",
        "T1=data.frame(x1,x2,x3)\n",
        "T1\n",
        "is.data.frame(T1)\n",
        "is.matrix(T1)\n",
        "names(T1)\n",
        "T1$x2\n",
        "T1[,2]"
      ],
      "execution_count": 40,
      "outputs": [
        {
          "output_type": "display_data",
          "data": {
            "text/plain": [
              "  x1    x2 x3\n",
              "1  TRUE a  -1\n",
              "2 FALSE b   2\n",
              "3 FALSE c   4\n",
              "4  TRUE d   8"
            ],
            "text/latex": "A data.frame: 4 × 3\n\\begin{tabular}{lll}\n x1 & x2 & x3\\\\\n <lgl> & <chr> & <dbl>\\\\\n\\hline\n\t  TRUE & a & -1\\\\\n\t FALSE & b &  2\\\\\n\t FALSE & c &  4\\\\\n\t  TRUE & d &  8\\\\\n\\end{tabular}\n",
            "text/markdown": "\nA data.frame: 4 × 3\n\n| x1 &lt;lgl&gt; | x2 &lt;chr&gt; | x3 &lt;dbl&gt; |\n|---|---|---|\n|  TRUE | a | -1 |\n| FALSE | b |  2 |\n| FALSE | c |  4 |\n|  TRUE | d |  8 |\n\n",
            "text/html": [
              "<table class=\"dataframe\">\n",
              "<caption>A data.frame: 4 × 3</caption>\n",
              "<thead>\n",
              "\t<tr><th scope=col>x1</th><th scope=col>x2</th><th scope=col>x3</th></tr>\n",
              "\t<tr><th scope=col>&lt;lgl&gt;</th><th scope=col>&lt;chr&gt;</th><th scope=col>&lt;dbl&gt;</th></tr>\n",
              "</thead>\n",
              "<tbody>\n",
              "\t<tr><td> TRUE</td><td>a</td><td>-1</td></tr>\n",
              "\t<tr><td>FALSE</td><td>b</td><td> 2</td></tr>\n",
              "\t<tr><td>FALSE</td><td>c</td><td> 4</td></tr>\n",
              "\t<tr><td> TRUE</td><td>d</td><td> 8</td></tr>\n",
              "</tbody>\n",
              "</table>\n"
            ]
          },
          "metadata": {}
        },
        {
          "output_type": "display_data",
          "data": {
            "text/plain": [
              "[1] TRUE"
            ],
            "text/latex": "TRUE",
            "text/markdown": "TRUE",
            "text/html": [
              "TRUE"
            ]
          },
          "metadata": {}
        },
        {
          "output_type": "display_data",
          "data": {
            "text/plain": [
              "[1] FALSE"
            ],
            "text/latex": "FALSE",
            "text/markdown": "FALSE",
            "text/html": [
              "FALSE"
            ]
          },
          "metadata": {}
        }
      ]
    },
    {
      "cell_type": "markdown",
      "metadata": {
        "id": "IeqmihHJGt1g"
      },
      "source": [
        "### Listes\n",
        "Les tableaux de données contients des vecteurs de différents modes mais tous de même longueur. Si on veut un objet contenant des objets de différents modes et de différentes longueurs, on fait recours à la classe \"list\""
      ]
    },
    {
      "cell_type": "code",
      "metadata": {
        "colab": {
          "base_uri": "https://localhost:8080/",
          "height": 263
        },
        "id": "GsLy8QcdHXNA",
        "outputId": "f13fad7f-6393-4d4d-f5ac-d65e7844c616"
      },
      "source": [
        "Noms=c(\"Mohamed\", \"Youssef\", \"Sarra\", \"Salma\")\n",
        "ages=c(32,12,14,5)\n",
        "statut=c(\"Marié\", \"célibataire\")\n",
        "func=TRUE\n",
        "l1=list(Noms=Noms,ages=ages,statut=statut,func=func)\n",
        "l1\n",
        "is.list(l1)\n",
        "names(l1)\n",
        "# pour extraire un élément d'une liste, on utilise le symbole \"$\" ou \"[[]]\"\n",
        "l1$Noms\n",
        "l1[[1]]\n",
        "l1[[\"Noms\"]]"
      ],
      "execution_count": 44,
      "outputs": [
        {
          "output_type": "display_data",
          "data": {
            "text/plain": [
              "$Noms\n",
              "[1] \"Mohamed\" \"Youssef\" \"Sarra\"   \"Salma\"  \n",
              "\n",
              "$ages\n",
              "[1] 32 12 14  5\n",
              "\n",
              "$statut\n",
              "[1] \"Marié\"       \"célibataire\"\n",
              "\n",
              "$func\n",
              "[1] TRUE\n"
            ],
            "text/latex": "\\begin{description}\n\\item[\\$Noms] \\begin{enumerate*}\n\\item 'Mohamed'\n\\item 'Youssef'\n\\item 'Sarra'\n\\item 'Salma'\n\\end{enumerate*}\n\n\\item[\\$ages] \\begin{enumerate*}\n\\item 32\n\\item 12\n\\item 14\n\\item 5\n\\end{enumerate*}\n\n\\item[\\$statut] \\begin{enumerate*}\n\\item 'Marié'\n\\item 'célibataire'\n\\end{enumerate*}\n\n\\item[\\$func] TRUE\n\\end{description}\n",
            "text/markdown": "$Noms\n:   1. 'Mohamed'\n2. 'Youssef'\n3. 'Sarra'\n4. 'Salma'\n\n\n\n$ages\n:   1. 32\n2. 12\n3. 14\n4. 5\n\n\n\n$statut\n:   1. 'Marié'\n2. 'célibataire'\n\n\n\n$func\n:   TRUE\n\n\n",
            "text/html": [
              "<dl>\n",
              "\t<dt>$Noms</dt>\n",
              "\t\t<dd><style>\n",
              ".list-inline {list-style: none; margin:0; padding: 0}\n",
              ".list-inline>li {display: inline-block}\n",
              ".list-inline>li:not(:last-child)::after {content: \"\\00b7\"; padding: 0 .5ex}\n",
              "</style>\n",
              "<ol class=list-inline><li>'Mohamed'</li><li>'Youssef'</li><li>'Sarra'</li><li>'Salma'</li></ol>\n",
              "</dd>\n",
              "\t<dt>$ages</dt>\n",
              "\t\t<dd><style>\n",
              ".list-inline {list-style: none; margin:0; padding: 0}\n",
              ".list-inline>li {display: inline-block}\n",
              ".list-inline>li:not(:last-child)::after {content: \"\\00b7\"; padding: 0 .5ex}\n",
              "</style>\n",
              "<ol class=list-inline><li>32</li><li>12</li><li>14</li><li>5</li></ol>\n",
              "</dd>\n",
              "\t<dt>$statut</dt>\n",
              "\t\t<dd><style>\n",
              ".list-inline {list-style: none; margin:0; padding: 0}\n",
              ".list-inline>li {display: inline-block}\n",
              ".list-inline>li:not(:last-child)::after {content: \"\\00b7\"; padding: 0 .5ex}\n",
              "</style>\n",
              "<ol class=list-inline><li>'Marié'</li><li>'célibataire'</li></ol>\n",
              "</dd>\n",
              "\t<dt>$func</dt>\n",
              "\t\t<dd>TRUE</dd>\n",
              "</dl>\n"
            ]
          },
          "metadata": {}
        },
        {
          "output_type": "display_data",
          "data": {
            "text/plain": [
              "[1] TRUE"
            ],
            "text/latex": "TRUE",
            "text/markdown": "TRUE",
            "text/html": [
              "TRUE"
            ]
          },
          "metadata": {}
        },
        {
          "output_type": "display_data",
          "data": {
            "text/plain": [
              "[1] \"Noms\"   \"ages\"   \"statut\" \"func\"  "
            ],
            "text/latex": "\\begin{enumerate*}\n\\item 'Noms'\n\\item 'ages'\n\\item 'statut'\n\\item 'func'\n\\end{enumerate*}\n",
            "text/markdown": "1. 'Noms'\n2. 'ages'\n3. 'statut'\n4. 'func'\n\n\n",
            "text/html": [
              "<style>\n",
              ".list-inline {list-style: none; margin:0; padding: 0}\n",
              ".list-inline>li {display: inline-block}\n",
              ".list-inline>li:not(:last-child)::after {content: \"\\00b7\"; padding: 0 .5ex}\n",
              "</style>\n",
              "<ol class=list-inline><li>'Noms'</li><li>'ages'</li><li>'statut'</li><li>'func'</li></ol>\n"
            ]
          },
          "metadata": {}
        },
        {
          "output_type": "display_data",
          "data": {
            "text/plain": [
              "[1] \"Mohamed\" \"Youssef\" \"Sarra\"   \"Salma\"  "
            ],
            "text/latex": "\\begin{enumerate*}\n\\item 'Mohamed'\n\\item 'Youssef'\n\\item 'Sarra'\n\\item 'Salma'\n\\end{enumerate*}\n",
            "text/markdown": "1. 'Mohamed'\n2. 'Youssef'\n3. 'Sarra'\n4. 'Salma'\n\n\n",
            "text/html": [
              "<style>\n",
              ".list-inline {list-style: none; margin:0; padding: 0}\n",
              ".list-inline>li {display: inline-block}\n",
              ".list-inline>li:not(:last-child)::after {content: \"\\00b7\"; padding: 0 .5ex}\n",
              "</style>\n",
              "<ol class=list-inline><li>'Mohamed'</li><li>'Youssef'</li><li>'Sarra'</li><li>'Salma'</li></ol>\n"
            ]
          },
          "metadata": {}
        },
        {
          "output_type": "display_data",
          "data": {
            "text/plain": [
              "[1] \"Mohamed\" \"Youssef\" \"Sarra\"   \"Salma\"  "
            ],
            "text/latex": "\\begin{enumerate*}\n\\item 'Mohamed'\n\\item 'Youssef'\n\\item 'Sarra'\n\\item 'Salma'\n\\end{enumerate*}\n",
            "text/markdown": "1. 'Mohamed'\n2. 'Youssef'\n3. 'Sarra'\n4. 'Salma'\n\n\n",
            "text/html": [
              "<style>\n",
              ".list-inline {list-style: none; margin:0; padding: 0}\n",
              ".list-inline>li {display: inline-block}\n",
              ".list-inline>li:not(:last-child)::after {content: \"\\00b7\"; padding: 0 .5ex}\n",
              "</style>\n",
              "<ol class=list-inline><li>'Mohamed'</li><li>'Youssef'</li><li>'Sarra'</li><li>'Salma'</li></ol>\n"
            ]
          },
          "metadata": {}
        },
        {
          "output_type": "display_data",
          "data": {
            "text/plain": [
              "[1] \"Mohamed\" \"Youssef\" \"Sarra\"   \"Salma\"  "
            ],
            "text/latex": "\\begin{enumerate*}\n\\item 'Mohamed'\n\\item 'Youssef'\n\\item 'Sarra'\n\\item 'Salma'\n\\end{enumerate*}\n",
            "text/markdown": "1. 'Mohamed'\n2. 'Youssef'\n3. 'Sarra'\n4. 'Salma'\n\n\n",
            "text/html": [
              "<style>\n",
              ".list-inline {list-style: none; margin:0; padding: 0}\n",
              ".list-inline>li {display: inline-block}\n",
              ".list-inline>li:not(:last-child)::after {content: \"\\00b7\"; padding: 0 .5ex}\n",
              "</style>\n",
              "<ol class=list-inline><li>'Mohamed'</li><li>'Youssef'</li><li>'Sarra'</li><li>'Salma'</li></ol>\n"
            ]
          },
          "metadata": {}
        }
      ]
    }
  ]
}