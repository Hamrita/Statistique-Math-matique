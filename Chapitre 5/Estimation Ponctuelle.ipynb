{
 "cells": [
  {
   "cell_type": "markdown",
   "metadata": {},
   "source": [
    "\n",
    "## Estimation ponctuelle\n",
    "### Méthode des moments\n",
    "__Définition:__ \n",
    "\n",
    "1. $\\mathbb{E}(X^k)$ est le __moment théorique non centré__ d'ordre $k$.\n",
    "2. $\\mathbb{E}\\left[(x-m)^k \\right]$ est le __moment théorique centré__ d'ordre $k$ où $m=\\mathbb{E}(X)$.\n",
    "3. $M_k=\\dfrac{1}{n}\\displaystyle{\\sum_{i=1}^nX_i^k}$ est le __moment empirique non centré__ d'ordre $k$.\n",
    "4. $\\mu_k=\\dfrac{1}{n}\\displaystyle \\sum_{i=1}^n(X_i-\\overline{X})^k$ est le __moment empirique centré__ d'ordre $k$.\n",
    "\n",
    "La méthode des moments consiste à __égaliser__ entre les moments théoriques et les moments empiriques.\n",
    "\n",
    "__Exemple 1:__\n",
    "\n",
    "Soit $(X_1, X_2, \\ldots, X_n)$ une suite de $v.a$ $iid$ suivant la loi de $\\mathcal{B}(1,p)$ . Déterminer l'estimateur de $p$ par la méthode des moments.\n",
    "\n",
    "On a $\\mathbb{E}(X)=p$ et $M_1=\\overline{X}$, d'où $\\mathbb{E}(X)=M_1 \\Longrightarrow$ $\\widehat{p}=\\overline{X}$.\n",
    "\n",
    "__Exemple 2:__\n",
    "\n",
    "Soit $(X_1, X_2, \\ldots, X_n)$ une suite de $v.a$ telle que $X_i\\stackrel{iid}{\\sim}N(m,\\sigma)$. Donner une estimation des paramètres $m$ et $\\sigma^2$ par la méthode des moments.\n",
    "\n",
    "$\\mathbb{E}(X)=M_1$ $\\Longrightarrow \\; \\widehat{m}=\\overline{X}$.\n",
    "\n",
    "$\\mathbb{E}(X^2)=M_2$ $\\Longrightarrow \\; \\sigma^2 + m^2 = \\overline{X^2}$ $\\Longrightarrow \\sigma^2 = \\overline{X^2}- m^2$. Soit $\\widehat{\\sigma}^2 =\\displaystyle \\dfrac{1}{n}\\sum_{i=1}^n X_i^2 -\\widehat{m}^2$\n",
    "\n",
    "$\\widehat{\\sigma}^2 =\\displaystyle \\dfrac{1}{n}\\sum_{i=1}^n X_i^2-\\overline{X}^2=\\dfrac{1}{n}\\sum_{i=1}^n\\left( X_i-\\overline{X}\\right)^2$\n",
    "\n",
    "__Remarque__ On peut, aussi, égaliser entre les moments centré théoriques et empiriques afin de déterminer l'estimateur de $\\sigma^2$.\n",
    "\n",
    "__Exercice__ Soit  l'échantillon $iid$ $(1.66, 7.14, 6.92, 4.10, 7.77, 5.08, 4.57, 2.29, 1.36, 1.67)$ issu de la loi $\\gamma(\\alpha, \\lambda)$. Déterminer une estimation des paramètres $\\alpha$ et $\\lambda$ par la méthode des moments.\n",
    "\n",
    "On sait que $\\mathbb{E}(X)=\\dfrac{\\alpha}{\\lambda}$ et $\\mathbb{V}(X)=\\dfrac{\\alpha}{\\lambda^2}$, donc $\\dfrac{\\alpha}{\\lambda}=\\overline{X}$ et $\\dfrac{\\alpha}{\\lambda^2}=\\dfrac{1}{n}\\displaystyle{\\sum_{i=1}^n\\left(X_i-\\overline{X} \\right)^2}$.\n",
    "\n",
    "D'où, $\\dfrac{\\overline{X}}{\\lambda}=\\dfrac{1}{n}\\displaystyle{\\sum_{i=1}^n\\left(X_i-\\overline{X} \\right)^2}$ $\\Longrightarrow \\widehat{\\lambda}= \\dfrac{\\displaystyle{\\sum_{i=1}^n X_i}}{\\displaystyle{\\sum_{i=1}^n\\left(X_i-\\overline{X} \\right)^2}}$\n",
    "\n",
    "Et $\\widehat{\\alpha}=\\widehat{\\lambda}\\overline{X}=\\overline{X}\\dfrac{\\displaystyle{\\sum_{i=1}^n X_i}}{\\displaystyle{\\sum_{i=1}^n\\left(X_i-\\overline{X} \\right)^2}}$."
   ]
  },
  {
   "cell_type": "code",
   "execution_count": 2,
   "metadata": {},
   "outputs": [
    {
     "data": {
      "text/html": [
       "0.785"
      ],
      "text/latex": [
       "0.785"
      ],
      "text/markdown": [
       "0.785"
      ],
      "text/plain": [
       "[1] 0.785"
      ]
     },
     "metadata": {},
     "output_type": "display_data"
    },
    {
     "data": {
      "text/html": [
       "3.339"
      ],
      "text/latex": [
       "3.339"
      ],
      "text/markdown": [
       "3.339"
      ],
      "text/plain": [
       "[1] 3.339"
      ]
     },
     "metadata": {},
     "output_type": "display_data"
    }
   ],
   "source": [
    "x=c(1.66, 7.14, 6.92, 4.10, 7.77, 5.08, 4.57, 2.29, 1.36, 1.67)\n",
    "n=length(x) ; x.bar=mean(x) ; s2=1/n*sum((x-x.bar)^2)\n",
    "lambda.hat=x.bar/s2 \n",
    "alpha.hat=lambda.hat*x.bar\n",
    "round(lambda.hat, 3)\n",
    "round(alpha.hat, 3)"
   ]
  },
  {
   "cell_type": "markdown",
   "metadata": {},
   "source": [
    "### Méthode du maximum de VS\n",
    "\n",
    "Soit l'échantillon $iid$ $(2,5,2,3,3,3,1,5)$ issu de la loi de poisson de paramètre $\\lambda$. Déterminer l'estimateur de $\\lambda$ par la méthode du maximum de vraisemblance.\n",
    "\n",
    "$f(x)=\\dfrac{\\lambda^x}{x!}e^{-\\lambda}$, d'où le logarithme de vraisemblance est donné par: $\\ell =\\displaystyle\\sum_{i=1}^n \\log(f(x_i)=\\log(\\lambda) \\displaystyle\\sum_{i=1}^nX_i-n\\lambda-\\displaystyle\\sum_{i=1}^n\\log(x!)$"
   ]
  },
  {
   "cell_type": "code",
   "execution_count": 3,
   "metadata": {},
   "outputs": [
    {
     "data": {
      "image/png": "[encoded data removed]",
      "text/plain": [
       "plot without title"
      ]
     },
     "metadata": {
      "image/png": {
       "height": 420,
       "width": 420
      }
     },
     "output_type": "display_data"
    }
   ],
   "source": [
    "ll=function(x,lambda){\n",
    "  n=length(x)\n",
    "  l=log(lambda)*sum(x)-n*lambda-sum(log(factorial(x)))\n",
    "  return(-l)\n",
    "}\n",
    "\n",
    "# graphique de la VS\n",
    "\n",
    "lam=1:10\n",
    "xx=c(2,5,2,3,3,3,1,5)\n",
    "N=length(lam)\n",
    "LL=NULL\n",
    "for(i in 1:N) LL[i]=ll(x,lam[i])\n",
    "plot(lam,LL, type=\"l\", lwd=2, col=4)\n",
    "idx=which.min(LL) ; points(idx,LL[idx], col=2, pch=10, lwd=4)"
   ]
  },
  {
   "cell_type": "markdown",
   "metadata": {},
   "source": [
    "Graphiquement, $-\\ell$ est minimum pour $\\lambda=4$"
   ]
  },
  {
   "cell_type": "code",
   "execution_count": 4,
   "metadata": {},
   "outputs": [
    {
     "data": {
      "text/html": [
       "2.99999850292412"
      ],
      "text/latex": [
       "2.99999850292412"
      ],
      "text/markdown": [
       "2.99999850292412"
      ],
      "text/plain": [
       "[1] 2.999999"
      ]
     },
     "metadata": {},
     "output_type": "display_data"
    }
   ],
   "source": [
    "# numériquement\n",
    "# on peut utiliser la fonction optim ou nlm\n",
    "\n",
    "obj=nlm(ll,1, x=xx)\n",
    "obj$estimate"
   ]
  },
  {
   "cell_type": "markdown",
   "metadata": {},
   "source": [
    "On voit bien, que numériquement, $\\widehat{\\lambda}=3$, qui est égale à $\\overline{X}$."
   ]
  },
  {
   "cell_type": "markdown",
   "metadata": {},
   "source": [
    "__Exercice__\n",
    "\n",
    "Soit la régression linéaire simple $y_i=\\beta_0+\\beta_1x_i+\\varepsilon_i$ avec $\\varepsilon_i\\stackrel{iid}\\sim N(0,\\sigma)$. Donner une estimation ponctuelle des paramètres $(\\beta_0,\\beta_1,\\sigma)$ par la méthode de vraisemblance.\n",
    "\n",
    "<table>\n",
    "  <tr>\n",
    "    <th>  </th>\n",
    "    <th>  </th>\n",
    "    <th>  </th>\n",
    "    <th>  </th>\n",
    "    <th>  </th>\n",
    "    <th>  </th>\n",
    "    <th>  </th>\n",
    "    <th>  </th>\n",
    "    <th>  </th>\n",
    "    <th>  </th>\n",
    "    <th>  </th>\n",
    "  </tr>\n",
    "  <tr>\n",
    "    <th> x </th>\n",
    "    <th> 0.1 </th>\n",
    "    <th> 0.32 </th>\n",
    "    <th> 0.52 </th>\n",
    "    <th> 0.66 </th>\n",
    "    <th> 0.41 </th>\n",
    "    <th> 0.91 </th>\n",
    "    <th> 0.29 </th>\n",
    "    <th> 0.46 </th>\n",
    "    <th> 0.33 </th>\n",
    "    <th> 0.65 </th>\n",
    "\n",
    "  </tr>\n",
    "  <tr>\n",
    "    <th> y </th>\n",
    "    <th> 0.25 </th>\n",
    "    <th> 0.81 </th>\n",
    "    <th> 1.16 </th>\n",
    "    <th> 1.31 </th>\n",
    "    <th> 0.7 </th>\n",
    "    <th> 1.68 </th>\n",
    "    <th> 0.57 </th>\n",
    "    <th> 1.2 </th>\n",
    "    <th> 0.79 </th>\n",
    "    <th> 1 </th>\n",
    "\n",
    "  </tr>\n",
    "</table>"
   ]
  },
  {
   "cell_type": "markdown",
   "metadata": {},
   "source": [
    "$\\varepsilon_i \\stackrel{iid}\\sim N(0,\\sigma) \\Longrightarrow \\; y_i \\stackrel{iid}\\sim N(\\beta_0+\\beta_1x_i,\\sigma)$, donc $f(y_i)=\\dfrac{1}{\\sqrt{2\\pi}\\sigma}\\exp\\left(-\\dfrac{1}{2\\sigma^2}(y_i-\\beta_0-\\beta_1x_i)^2 \\right) \\Longrightarrow \\; logL=-\\dfrac{n}{2}\\log(2\\pi)-n\\log(\\sigma)-\\dfrac{1}{2\\sigma^2}\\displaystyle\\sum_{i=1}^n(y_i-\\beta_0-\\beta_1x_i)^2$"
   ]
  },
  {
   "cell_type": "code",
   "execution_count": 5,
   "metadata": {},
   "outputs": [
    {
     "data": {
      "text/html": [
       "<style>\n",
       ".list-inline {list-style: none; margin:0; padding: 0}\n",
       ".list-inline>li {display: inline-block}\n",
       ".list-inline>li:not(:last-child)::after {content: \"\\00b7\"; padding: 0 .5ex}\n",
       "</style>\n",
       "<ol class=list-inline><li>0.178628067140612</li><li>1.65241332395547</li><li>0.143003779309764</li></ol>\n"
      ],
      "text/latex": [
       "\\begin{enumerate*}\n",
       "\\item 0.178628067140612\n",
       "\\item 1.65241332395547\n",
       "\\item 0.143003779309764\n",
       "\\end{enumerate*}\n"
      ],
      "text/markdown": [
       "1. 0.178628067140612\n",
       "2. 1.65241332395547\n",
       "3. 0.143003779309764\n",
       "\n",
       "\n"
      ],
      "text/plain": [
       "[1] 0.1786281 1.6524133 0.1430038"
      ]
     },
     "metadata": {},
     "output_type": "display_data"
    }
   ],
   "source": [
    "x=c(0.1,0.32,0.52,0.66,0.41,0.91,0.29,0.46,0.33,0.65)\n",
    "y=c(0.25,0.81,1.16,1.31,0.7,1.68,0.57,1.2,0.79,1)\n",
    "\n",
    "# VS\n",
    "logL=function(x,y,theta){\n",
    "  # theta=(beta0,beta1,sigma)\n",
    "  n=length(x)\n",
    "  b0=theta[1]\n",
    "  b1=theta[2]\n",
    "  sig=theta[3]\n",
    "  ll=-n/2*log(2*pi)-n*log(sig)-1/(2*sig^2)*sum((y-b0-b1*x)^2)\n",
    "  -ll\n",
    "}\n",
    "\n",
    "# Estimation\n",
    "\n",
    "theta=optim(fn=logL,par=c(1,1,1),\n",
    "           x=x,y=y,\n",
    "           lower=c(-Inf,-Inf,0.001),\n",
    "           upper=c(Inf, Inf, Inf),\n",
    "           method=\"L-BFGS-B\",hessian=TRUE)\n",
    "theta$par"
   ]
  },
  {
   "cell_type": "markdown",
   "metadata": {},
   "source": [
    "Examinons le résultat. En utilisant la méthode des MCO, on aura $\\widehat{\\beta}=(X'X)^{-1}X'Y$ et $\\widehat{\\sigma}^2=\\dfrac{\\sum (y_i-\\widehat{y}_i)^2}{n-k-1}$"
   ]
  },
  {
   "cell_type": "code",
   "execution_count": 6,
   "metadata": {},
   "outputs": [
    {
     "data": {
      "text/html": [
       "<style>\n",
       ".list-inline {list-style: none; margin:0; padding: 0}\n",
       ".list-inline>li {display: inline-block}\n",
       ".list-inline>li:not(:last-child)::after {content: \"\\00b7\"; padding: 0 .5ex}\n",
       "</style>\n",
       "<ol class=list-inline><li>0.178627385545935</li><li>1.65241422463239</li><li>0.15987683952616</li></ol>\n"
      ],
      "text/latex": [
       "\\begin{enumerate*}\n",
       "\\item 0.178627385545935\n",
       "\\item 1.65241422463239\n",
       "\\item 0.15987683952616\n",
       "\\end{enumerate*}\n"
      ],
      "text/markdown": [
       "1. 0.178627385545935\n",
       "2. 1.65241422463239\n",
       "3. 0.15987683952616\n",
       "\n",
       "\n"
      ],
      "text/plain": [
       "[1] 0.1786274 1.6524142 0.1598768"
      ]
     },
     "metadata": {},
     "output_type": "display_data"
    }
   ],
   "source": [
    "X=cbind(1,x)\n",
    "y=as.matrix(y)\n",
    "beta=solve(crossprod(X))%*%crossprod(X,y)\n",
    "y.hat=beta[1,1]+beta[2,1]*x\n",
    "sig2=sum((y-y.hat)^2)/8\n",
    "c(beta,sqrt(sig2))"
   ]
  },
  {
   "cell_type": "markdown",
   "metadata": {},
   "source": [
    "Pour la détermination des variances des estimateurs, on fait recours à la matrice Hessienne. En effet, les variances des estimateurs sont situées à la diagonale de l'inverse de la matrice Hessienne."
   ]
  },
  {
   "cell_type": "code",
   "execution_count": 8,
   "metadata": {},
   "outputs": [
    {
     "data": {
      "text/html": [
       "<style>\n",
       ".list-inline {list-style: none; margin:0; padding: 0}\n",
       ".list-inline>li {display: inline-block}\n",
       ".list-inline>li:not(:last-child)::after {content: \"\\00b7\"; padding: 0 .5ex}\n",
       "</style>\n",
       "<ol class=list-inline><li>0.106149414196517</li><li>0.206526532603744</li><li>0.0319714544301092</li></ol>\n"
      ],
      "text/latex": [
       "\\begin{enumerate*}\n",
       "\\item 0.106149414196517\n",
       "\\item 0.206526532603744\n",
       "\\item 0.0319714544301092\n",
       "\\end{enumerate*}\n"
      ],
      "text/markdown": [
       "1. 0.106149414196517\n",
       "2. 0.206526532603744\n",
       "3. 0.0319714544301092\n",
       "\n",
       "\n"
      ],
      "text/plain": [
       "[1] 0.10614941 0.20652653 0.03197145"
      ]
     },
     "metadata": {},
     "output_type": "display_data"
    }
   ],
   "source": [
    "var_theta=diag(solve(theta$hessian))\n",
    "sqrt(var_theta)  # les écart-type"
   ]
  },
  {
   "cell_type": "code",
   "execution_count": 9,
   "metadata": {},
   "outputs": [
    {
     "data": {
      "text/html": [
       "<style>\n",
       ".dl-inline {width: auto; margin:0; padding: 0}\n",
       ".dl-inline>dt, .dl-inline>dd {float: none; width: auto; display: inline-block}\n",
       ".dl-inline>dt::after {content: \":\\0020\"; padding-right: .5ex}\n",
       ".dl-inline>dt:not(:first-of-type) {padding-left: .5ex}\n",
       "</style><dl class=dl-inline><dt>1</dt><dd>0.118674016458109</dd><dt>x</dt><dd>0.230894662159641</dd></dl>\n"
      ],
      "text/latex": [
       "\\begin{description*}\n",
       "\\item[1] 0.118674016458109\n",
       "\\item[x] 0.230894662159641\n",
       "\\end{description*}\n"
      ],
      "text/markdown": [
       "1\n",
       ":   0.118674016458109x\n",
       ":   0.230894662159641\n",
       "\n"
      ],
      "text/plain": [
       "                  x \n",
       "0.1186740 0.2308947 "
      ]
     },
     "metadata": {},
     "output_type": "display_data"
    }
   ],
   "source": [
    "# par la méthode des MCO, V=sigma^2 (X'X)^-1\n",
    "vv=sig2*solve(crossprod(X))\n",
    "sqrt(diag(vv))"
   ]
  },
  {
   "cell_type": "markdown",
   "metadata": {},
   "source": [
    "__Remarque:__ Pour la méthode des MCO, on peut utiliser la fonction `lm`"
   ]
  },
  {
   "cell_type": "code",
   "execution_count": 10,
   "metadata": {},
   "outputs": [
    {
     "data": {
      "text/html": [
       "<table class=\"dataframe\">\n",
       "<caption>A matrix: 2 × 4 of type dbl</caption>\n",
       "<thead>\n",
       "\t<tr><th></th><th scope=col>Estimate</th><th scope=col>Std. Error</th><th scope=col>t value</th><th scope=col>Pr(&gt;|t|)</th></tr>\n",
       "</thead>\n",
       "<tbody>\n",
       "\t<tr><th scope=row>(Intercept)</th><td>0.1786274</td><td>0.1186740</td><td>1.505194</td><td>1.706910e-01</td></tr>\n",
       "\t<tr><th scope=row>x</th><td>1.6524142</td><td>0.2308947</td><td>7.156572</td><td>9.646742e-05</td></tr>\n",
       "</tbody>\n",
       "</table>\n"
      ],
      "text/latex": [
       "A matrix: 2 × 4 of type dbl\n",
       "\\begin{tabular}{r|llll}\n",
       "  & Estimate & Std. Error & t value & Pr(>\\textbar{}t\\textbar{})\\\\\n",
       "\\hline\n",
       "\t(Intercept) & 0.1786274 & 0.1186740 & 1.505194 & 1.706910e-01\\\\\n",
       "\tx & 1.6524142 & 0.2308947 & 7.156572 & 9.646742e-05\\\\\n",
       "\\end{tabular}\n"
      ],
      "text/markdown": [
       "\n",
       "A matrix: 2 × 4 of type dbl\n",
       "\n",
       "| <!--/--> | Estimate | Std. Error | t value | Pr(&gt;|t|) |\n",
       "|---|---|---|---|---|\n",
       "| (Intercept) | 0.1786274 | 0.1186740 | 1.505194 | 1.706910e-01 |\n",
       "| x | 1.6524142 | 0.2308947 | 7.156572 | 9.646742e-05 |\n",
       "\n"
      ],
      "text/plain": [
       "            Estimate  Std. Error t value  Pr(>|t|)    \n",
       "(Intercept) 0.1786274 0.1186740  1.505194 1.706910e-01\n",
       "x           1.6524142 0.2308947  7.156572 9.646742e-05"
      ]
     },
     "metadata": {},
     "output_type": "display_data"
    }
   ],
   "source": [
    "mod=lm(y~x)\n",
    "ss=summary(mod)\n",
    "ss$coef"
   ]
  },
  {
   "cell_type": "markdown",
   "metadata": {},
   "source": [
    "### Méthode des MCO\n",
    "\n",
    "La méthode des moments consiste à minimiser l'erreur quadratique (EQ). Soit le modèle linéaire simple $y_i=\\beta_0+\\beta_1 x_i+\\varepsilon_i$. L'erreur quadratique correspondant à ce modèle est donné par: $EQ=\\displaystyle\\sum_{i=1}^n \\varepsilon_i^2= \\sum_{i=1}^n \\big(y_i-\\beta_0-\\beta_1 x_i\\big)^2$. Les estimateurs de $\\beta_0$ et $\\beta_1$ sont solution de la fonction objective $\\displaystyle \\min_{\\beta_0, \\beta_1}EQ$.\n",
    "\n",
    "La condition necessaire est: \n",
    "\\begin{align*}\n",
    "\\dfrac{\\partial EQ}{\\partial \\beta_0}=\\dfrac{\\partial EQ}{\\partial \\beta_1}=0\n",
    "\\end{align*}\n",
    "\n",
    "Et la condition sufisante est: la matrice Hessienne est définie positive, (une matrice $A$ est dite définie positive si $x'Ax > 0$ pour tout vecteur colonne $x$ non nul), où la matrice Hessienne est donnée par:\n",
    "$$\n",
    "H=\\left(\\begin{array}{c c }\n",
    "\\dfrac{\\partial^2 EQ}{\\partial \\beta_0^2} & \\dfrac{\\partial^2 EQ}{\\partial \\beta_0\\partial \\beta_1}\\\\\n",
    "\\dfrac{\\partial^2 EQ}{\\partial \\beta_0\\partial \\beta_1} & \\dfrac{\\partial^2 EQ}{\\partial \\beta_1^2}\n",
    "\\end{array}\\right)\n",
    "$$\n",
    "\n",
    "On peut montrer que les estimateurs des paramètres sont donnés par:\n",
    "$$\n",
    "\\widehat{\\beta}_0=\\overline{y}-\\widehat{\\beta}_1\\overline{x} \\;\\; \\text{ et }\\;\\; \\widehat{\\beta}_1=\\dfrac{\\displaystyle\\sum_{i=1}^n(x_i-\\overline{x})(y_i-\\overline{y})}{\\displaystyle\\sum_{i=1}^n(x_i-\\overline{x})^2}\n",
    "$$\n",
    "\n",
    "Dans le cas du modèle de régression multiple, on aura $\\widehat{\\beta}=(X'X)^{-1}X'Y$."
   ]
  }
 ],
 "metadata": {
  "kernelspec": {
   "display_name": "R",
   "language": "R",
   "name": "ir"
  },
  "language_info": {
   "codemirror_mode": "r",
   "file_extension": ".r",
   "mimetype": "text/x-r-source",
   "name": "R",
   "pygments_lexer": "r",
   "version": "4.1.1"
  }
 },
 "nbformat": 4,
 "nbformat_minor": 2
}
